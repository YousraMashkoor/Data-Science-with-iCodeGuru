{
  "nbformat": 4,
  "nbformat_minor": 0,
  "metadata": {
    "colab": {
      "name": "DA-ch-2.ipynb",
      "provenance": []
    },
    "kernelspec": {
      "name": "python3",
      "display_name": "Python 3"
    }
  },
  "cells": [
    {
      "cell_type": "code",
      "metadata": {
        "id": "rrMACcDUszB-"
      },
      "source": [
        "#  chapter-2 \n",
        "#   topic 2.1\n",
        "#USE Data2 and Data3 files to work"
      ],
      "execution_count": null,
      "outputs": []
    },
    {
      "cell_type": "code",
      "metadata": {
        "id": "zLzeJbMq3rRb",
        "outputId": "355981ad-8986-4518-865b-0d381a9da3a7",
        "colab": {
          "base_uri": "https://localhost:8080/"
        }
      },
      "source": [
        "# Import pandas\n",
        "import pandas as pd\n",
        "\n",
        "# Read 'Data2.csv' into a DataFrame: silver\n",
        "silver = pd.read_csv('Data2.csv')\n",
        "\n",
        "# Read 'Data3.csv' into a DataFrame: gold\n",
        "gold = pd.read_csv('Data3.csv')\n",
        "\n",
        "# Print the first five rows of gold\n",
        "print(gold.head())"
      ],
      "execution_count": null,
      "outputs": [
        {
          "output_type": "stream",
          "text": [
            "  Country  gold  silver        date\n",
            "0   Qatar   200       0  2014-01-01\n",
            "1  Turkey   400       1  2015-02-02\n",
            "2   Dubai   600       2  2016-03-03\n",
            "3  Europe   800       3  2017-04-04\n",
            "4      UK     0       4  3017-05-05\n"
          ],
          "name": "stdout"
        }
      ]
    },
    {
      "cell_type": "code",
      "metadata": {
        "id": "PnJGKKW4-bmE",
        "outputId": "75567123-5d4c-43ed-fef2-63562976ebda",
        "colab": {
          "base_uri": "https://localhost:8080/"
        }
      },
      "source": [
        "# Import pandas\n",
        "import pandas as pd\n",
        "\n",
        "# Create the list of file names: filenames\n",
        "filenames = ['Data2.csv', 'Data3.csv']\n",
        "\n",
        "# Create the list of three DataFrames: dataframes\n",
        "dataframes = []\n",
        "for i in filenames:\n",
        "    dataframes.append(pd.read_csv(i))\n",
        "\n",
        "# Print top 5 rows of 1st DataFrame in dataframes\n",
        "print(dataframes[1].head())"
      ],
      "execution_count": null,
      "outputs": [
        {
          "output_type": "stream",
          "text": [
            "  Country  gold  silver        date\n",
            "0   Qatar   200       0  2014-01-01\n",
            "1  Turkey   400       1  2015-02-02\n",
            "2   Dubai   600       2  2016-03-03\n",
            "3  Europe   800       3  2017-04-04\n",
            "4      UK     0       4  3017-05-05\n"
          ],
          "name": "stdout"
        }
      ]
    },
    {
      "cell_type": "code",
      "metadata": {
        "id": "tt3OeAwU-q98",
        "outputId": "5386d7c8-7e27-4e7c-e6cc-7bce67d19205",
        "colab": {
          "base_uri": "https://localhost:8080/"
        }
      },
      "source": [
        "# Import pandas\n",
        "import pandas as pd\n",
        "\n",
        "# Make a copy of gold: medals\n",
        "medals = gold.copy()\n",
        "\n",
        "# Create list of new column labels: new_labels\n",
        "new_labels = ['NOC', 'Country', 'Gold','Date']\n",
        "\n",
        "# Rename the columns of medals using new_labels\n",
        "medals.columns = new_labels\n",
        "print(medals)\n",
        "# Add columns 'silver' & 'gold' to medals\n",
        "medals['silver2'] = gold['silver']\n",
        "medals['gold2'] = gold['gold']\n",
        "\n",
        "# Print the head of medals\n",
        "print(medals.head())"
      ],
      "execution_count": null,
      "outputs": [
        {
          "output_type": "stream",
          "text": [
            "      NOC  Country  Gold        Date\n",
            "0   Qatar      200     0  2014-01-01\n",
            "1  Turkey      400     1  2015-02-02\n",
            "2   Dubai      600     2  2016-03-03\n",
            "3  Europe      800     3  2017-04-04\n",
            "4      UK        0     4  3017-05-05\n",
            "      NOC  Country  Gold        Date  silver2  gold2\n",
            "0   Qatar      200     0  2014-01-01        0    200\n",
            "1  Turkey      400     1  2015-02-02        1    400\n",
            "2   Dubai      600     2  2016-03-03        2    600\n",
            "3  Europe      800     3  2017-04-04        3    800\n",
            "4      UK        0     4  3017-05-05        4      0\n"
          ],
          "name": "stdout"
        }
      ]
    },
    {
      "cell_type": "code",
      "metadata": {
        "id": "M-s6z0U5_Y2y",
        "outputId": "280bae71-4172-4aff-b7a9-38ebf773ccc6",
        "colab": {
          "base_uri": "https://localhost:8080/"
        }
      },
      "source": [
        "# Import pandas\n",
        "import pandas as pd\n",
        "\n",
        "# Read 'Data3.csv' into a DataFrame: weather1\n",
        "file1 = pd.read_csv('Data3.csv', index_col='Country')\n",
        "\n",
        "# Print the head of file1\n",
        "print(file1.head())\n",
        "\n",
        "# Sort the index of file1 in alphabetical order: file2\n",
        "file2 = file1.sort_index()\n",
        "\n",
        "# Print the head of file2\n",
        "print(file2.head())\n",
        "\n",
        "# Sort the index of file1 in reverse alphabetical order: file3\n",
        "file3 = file1.sort_index(ascending=False)\n",
        "\n",
        "# Print the head of file3\n",
        "print(file3.head())\n",
        "\n",
        "# Sort file1 numerically using the values of 'gold': file4\n",
        "file4 = file1.sort_values('gold')\n",
        "\n",
        "# Print the head of file4\n",
        "print(file4.head())"
      ],
      "execution_count": null,
      "outputs": [
        {
          "output_type": "stream",
          "text": [
            "         gold  silver        date\n",
            "Country                          \n",
            "Qatar     200       0  2014-01-01\n",
            "Turkey    400       1  2015-02-02\n",
            "Dubai     600       2  2016-03-03\n",
            "Europe    800       3  2017-04-04\n",
            "UK          0       4  3017-05-05\n",
            "         gold  silver        date\n",
            "Country                          \n",
            "Dubai     600       2  2016-03-03\n",
            "Europe    800       3  2017-04-04\n",
            "Qatar     200       0  2014-01-01\n",
            "Turkey    400       1  2015-02-02\n",
            "UK          0       4  3017-05-05\n",
            "         gold  silver        date\n",
            "Country                          \n",
            "UK          0       4  3017-05-05\n",
            "Turkey    400       1  2015-02-02\n",
            "Qatar     200       0  2014-01-01\n",
            "Europe    800       3  2017-04-04\n",
            "Dubai     600       2  2016-03-03\n",
            "         gold  silver        date\n",
            "Country                          \n",
            "UK          0       4  3017-05-05\n",
            "Qatar     200       0  2014-01-01\n",
            "Turkey    400       1  2015-02-02\n",
            "Dubai     600       2  2016-03-03\n",
            "Europe    800       3  2017-04-04\n"
          ],
          "name": "stdout"
        }
      ]
    },
    {
      "cell_type": "code",
      "metadata": {
        "id": "1RbIr7SkDHw7",
        "outputId": "23b7ee8a-d7e8-4c91-db81-ab24ecd2b309",
        "colab": {
          "base_uri": "https://localhost:8080/",
          "height": 233
        }
      },
      "source": [
        "file1"
      ],
      "execution_count": null,
      "outputs": [
        {
          "output_type": "execute_result",
          "data": {
            "text/html": [
              "<div>\n",
              "<style scoped>\n",
              "    .dataframe tbody tr th:only-of-type {\n",
              "        vertical-align: middle;\n",
              "    }\n",
              "\n",
              "    .dataframe tbody tr th {\n",
              "        vertical-align: top;\n",
              "    }\n",
              "\n",
              "    .dataframe thead th {\n",
              "        text-align: right;\n",
              "    }\n",
              "</style>\n",
              "<table border=\"1\" class=\"dataframe\">\n",
              "  <thead>\n",
              "    <tr style=\"text-align: right;\">\n",
              "      <th></th>\n",
              "      <th>gold</th>\n",
              "      <th>silver</th>\n",
              "    </tr>\n",
              "    <tr>\n",
              "      <th>Country</th>\n",
              "      <th></th>\n",
              "      <th></th>\n",
              "    </tr>\n",
              "  </thead>\n",
              "  <tbody>\n",
              "    <tr>\n",
              "      <th>Qatar</th>\n",
              "      <td>200</td>\n",
              "      <td>0</td>\n",
              "    </tr>\n",
              "    <tr>\n",
              "      <th>Turkey</th>\n",
              "      <td>400</td>\n",
              "      <td>1</td>\n",
              "    </tr>\n",
              "    <tr>\n",
              "      <th>Dubai</th>\n",
              "      <td>600</td>\n",
              "      <td>2</td>\n",
              "    </tr>\n",
              "    <tr>\n",
              "      <th>Europe</th>\n",
              "      <td>800</td>\n",
              "      <td>3</td>\n",
              "    </tr>\n",
              "    <tr>\n",
              "      <th>UK</th>\n",
              "      <td>0</td>\n",
              "      <td>4</td>\n",
              "    </tr>\n",
              "  </tbody>\n",
              "</table>\n",
              "</div>"
            ],
            "text/plain": [
              "         gold  silver\n",
              "Country              \n",
              "Qatar     200       0\n",
              "Turkey    400       1\n",
              "Dubai     600       2\n",
              "Europe    800       3\n",
              "UK          0       4"
            ]
          },
          "metadata": {
            "tags": []
          },
          "execution_count": 37
        }
      ]
    },
    {
      "cell_type": "code",
      "metadata": {
        "id": "VQN3yuhLEPFm",
        "outputId": "9398767b-31bc-4630-abac-b0f3321474b5",
        "colab": {
          "base_uri": "https://localhost:8080/",
          "height": 390
        }
      },
      "source": [
        "# Import pandas\n",
        "import pandas as pd\n",
        "file1 = pd.read_csv('Data2.csv', index_col='Country')\n",
        "# Print shape of common_names\n",
        "print(file1.shape)\n",
        "\n",
        "# Drop rows with null counts: common_names\n",
        "file5 = file1.dropna()\n",
        "\n",
        "# Print shape of new common_names\n",
        "print(file5.shape)\n",
        "file5"
      ],
      "execution_count": null,
      "outputs": [
        {
          "output_type": "stream",
          "text": [
            "(11, 4)\n",
            "(9, 4)\n"
          ],
          "name": "stdout"
        },
        {
          "output_type": "execute_result",
          "data": {
            "text/html": [
              "<div>\n",
              "<style scoped>\n",
              "    .dataframe tbody tr th:only-of-type {\n",
              "        vertical-align: middle;\n",
              "    }\n",
              "\n",
              "    .dataframe tbody tr th {\n",
              "        vertical-align: top;\n",
              "    }\n",
              "\n",
              "    .dataframe thead th {\n",
              "        text-align: right;\n",
              "    }\n",
              "</style>\n",
              "<table border=\"1\" class=\"dataframe\">\n",
              "  <thead>\n",
              "    <tr style=\"text-align: right;\">\n",
              "      <th></th>\n",
              "      <th>cpc</th>\n",
              "      <th>drive_right</th>\n",
              "      <th>Purchased</th>\n",
              "      <th>pop</th>\n",
              "    </tr>\n",
              "    <tr>\n",
              "      <th>Country</th>\n",
              "      <th></th>\n",
              "      <th></th>\n",
              "      <th></th>\n",
              "      <th></th>\n",
              "    </tr>\n",
              "  </thead>\n",
              "  <tbody>\n",
              "    <tr>\n",
              "      <th>France</th>\n",
              "      <td>44</td>\n",
              "      <td>True</td>\n",
              "      <td>No</td>\n",
              "      <td>10.0</td>\n",
              "    </tr>\n",
              "    <tr>\n",
              "      <th>Spain</th>\n",
              "      <td>27</td>\n",
              "      <td>False</td>\n",
              "      <td>Yes</td>\n",
              "      <td>20.0</td>\n",
              "    </tr>\n",
              "    <tr>\n",
              "      <th>Germany</th>\n",
              "      <td>30</td>\n",
              "      <td>True</td>\n",
              "      <td>No</td>\n",
              "      <td>30.0</td>\n",
              "    </tr>\n",
              "    <tr>\n",
              "      <th>Spain</th>\n",
              "      <td>38</td>\n",
              "      <td>False</td>\n",
              "      <td>No</td>\n",
              "      <td>20.0</td>\n",
              "    </tr>\n",
              "    <tr>\n",
              "      <th>Germany</th>\n",
              "      <td>40</td>\n",
              "      <td>True</td>\n",
              "      <td>Yes</td>\n",
              "      <td>30.0</td>\n",
              "    </tr>\n",
              "    <tr>\n",
              "      <th>France</th>\n",
              "      <td>35</td>\n",
              "      <td>False</td>\n",
              "      <td>Yes</td>\n",
              "      <td>10.0</td>\n",
              "    </tr>\n",
              "    <tr>\n",
              "      <th>China</th>\n",
              "      <td>52</td>\n",
              "      <td>True</td>\n",
              "      <td>No</td>\n",
              "      <td>80.0</td>\n",
              "    </tr>\n",
              "    <tr>\n",
              "      <th>India</th>\n",
              "      <td>48</td>\n",
              "      <td>True</td>\n",
              "      <td>Yes</td>\n",
              "      <td>60.0</td>\n",
              "    </tr>\n",
              "    <tr>\n",
              "      <th>America</th>\n",
              "      <td>45</td>\n",
              "      <td>True</td>\n",
              "      <td>No</td>\n",
              "      <td>40.0</td>\n",
              "    </tr>\n",
              "  </tbody>\n",
              "</table>\n",
              "</div>"
            ],
            "text/plain": [
              "         cpc  drive_right Purchased   pop\n",
              "Country                                  \n",
              "France    44         True        No  10.0\n",
              "Spain     27        False       Yes  20.0\n",
              "Germany   30         True        No  30.0\n",
              "Spain     38        False        No  20.0\n",
              "Germany   40         True       Yes  30.0\n",
              "France    35        False       Yes  10.0\n",
              "China     52         True        No  80.0\n",
              "India     48         True       Yes  60.0\n",
              "America   45         True        No  40.0"
            ]
          },
          "metadata": {
            "tags": []
          },
          "execution_count": 16
        }
      ]
    },
    {
      "cell_type": "code",
      "metadata": {
        "id": "eI-PWAPUKeSz",
        "outputId": "7dc58c1b-136e-4867-a3dc-f1bdb7fa7326",
        "colab": {
          "base_uri": "https://localhost:8080/",
          "height": 233
        }
      },
      "source": [
        "# Import pandas\n",
        "import pandas as pd\n",
        "file6 = pd.read_csv('Data3.csv', index_col='Country')\n",
        "file6"
      ],
      "execution_count": null,
      "outputs": [
        {
          "output_type": "execute_result",
          "data": {
            "text/html": [
              "<div>\n",
              "<style scoped>\n",
              "    .dataframe tbody tr th:only-of-type {\n",
              "        vertical-align: middle;\n",
              "    }\n",
              "\n",
              "    .dataframe tbody tr th {\n",
              "        vertical-align: top;\n",
              "    }\n",
              "\n",
              "    .dataframe thead th {\n",
              "        text-align: right;\n",
              "    }\n",
              "</style>\n",
              "<table border=\"1\" class=\"dataframe\">\n",
              "  <thead>\n",
              "    <tr style=\"text-align: right;\">\n",
              "      <th></th>\n",
              "      <th>gold</th>\n",
              "      <th>silver</th>\n",
              "      <th>date</th>\n",
              "    </tr>\n",
              "    <tr>\n",
              "      <th>Country</th>\n",
              "      <th></th>\n",
              "      <th></th>\n",
              "      <th></th>\n",
              "    </tr>\n",
              "  </thead>\n",
              "  <tbody>\n",
              "    <tr>\n",
              "      <th>Qatar</th>\n",
              "      <td>200</td>\n",
              "      <td>0</td>\n",
              "      <td>2014-01-01</td>\n",
              "    </tr>\n",
              "    <tr>\n",
              "      <th>Turkey</th>\n",
              "      <td>400</td>\n",
              "      <td>1</td>\n",
              "      <td>2015-02-02</td>\n",
              "    </tr>\n",
              "    <tr>\n",
              "      <th>Dubai</th>\n",
              "      <td>600</td>\n",
              "      <td>2</td>\n",
              "      <td>2016-03-03</td>\n",
              "    </tr>\n",
              "    <tr>\n",
              "      <th>Europe</th>\n",
              "      <td>800</td>\n",
              "      <td>3</td>\n",
              "      <td>2017-04-04</td>\n",
              "    </tr>\n",
              "    <tr>\n",
              "      <th>UK</th>\n",
              "      <td>0</td>\n",
              "      <td>4</td>\n",
              "      <td>3017-05-05</td>\n",
              "    </tr>\n",
              "  </tbody>\n",
              "</table>\n",
              "</div>"
            ],
            "text/plain": [
              "         gold  silver        date\n",
              "Country                          \n",
              "Qatar     200       0  2014-01-01\n",
              "Turkey    400       1  2015-02-02\n",
              "Dubai     600       2  2016-03-03\n",
              "Europe    800       3  2017-04-04\n",
              "UK          0       4  3017-05-05"
            ]
          },
          "metadata": {
            "tags": []
          },
          "execution_count": 17
        }
      ]
    },
    {
      "cell_type": "code",
      "metadata": {
        "id": "_km3ionHKX4B",
        "outputId": "b43f6678-13c5-4377-967b-775401fa85ae",
        "colab": {
          "base_uri": "https://localhost:8080/"
        }
      },
      "source": [
        "# Extract selected columns from file as new DataFrame: file7\n",
        "file7 = file6[['gold', 'silver']]\n",
        "\n",
        "# Convert file7 to file8\n",
        "file8 = (file7 - 32) * 5/9\n",
        "\n",
        "# Rename 'gold' in column names with 'silver': file8\n",
        "file8.columns = file8.columns.str.replace('gold', 'silver')\n",
        "\n",
        "# Print first 5 rows of file8\n",
        "print(file8.head())"
      ],
      "execution_count": null,
      "outputs": [
        {
          "output_type": "stream",
          "text": [
            "             silver     silver\n",
            "Country                       \n",
            "Qatar     93.333333 -17.777778\n",
            "Turkey   204.444444 -17.222222\n",
            "Dubai    315.555556 -16.666667\n",
            "Europe   426.666667 -16.111111\n",
            "UK       -17.777778 -15.555556\n"
          ],
          "name": "stdout"
        }
      ]
    },
    {
      "cell_type": "code",
      "metadata": {
        "id": "9uoV4afYK_-b",
        "outputId": "42515eb8-5951-4f87-cc7e-280191e9f43b",
        "colab": {
          "base_uri": "https://localhost:8080/"
        }
      },
      "source": [
        "import pandas as pd\n",
        "\n",
        "# Read 'GDP.csv' into a DataFrame: gdp\n",
        "gdp = pd.read_csv('Data3.csv', parse_dates=True, index_col='date')\n",
        "gdp\n",
        "# Slice all the gdp data from 2015 onward: post2015\n",
        "post2015 = gdp.loc['2015':]\n",
        "\n",
        "# Print the last 2 rows of post2015\n",
        "print(post2015.tail(2))\n",
        "\n",
        "# Resample post2015 by year, keeping last(): yearly\n",
        "#yearly = post2015.resample('A').last()\n",
        "#yearly=post2015['gold']\n",
        "# Print yearly\n",
        "#print(yearly)\n",
        "\n",
        "# Compute percentage growth of yearly: yearly['growth']\n",
        "#yearly['gold'] = yearly.pct_change() * 100\n",
        "\n",
        "# Print yearly again\n",
        "#print(yearly)"
      ],
      "execution_count": null,
      "outputs": [
        {
          "output_type": "stream",
          "text": [
            "           Country  gold  silver\n",
            "date                            \n",
            "2017-04-04  Europe   800       3\n",
            "3017-05-05      UK     0       4\n"
          ],
          "name": "stdout"
        }
      ]
    },
    {
      "cell_type": "code",
      "metadata": {
        "id": "OwDxIAE1MRxd",
        "outputId": "990badc5-7bcd-40af-a56b-4a94011655a2",
        "colab": {
          "base_uri": "https://localhost:8080/"
        }
      },
      "source": [
        "import pandas as pd\n",
        "\n",
        "# Read 'sp500.csv' into a DataFrame: sp500\n",
        "sp500 = pd.read_csv('Data3.csv', parse_dates=True, index_col='date')\n",
        "\n",
        "# Subset 'Open' & 'Close' columns from sp500: dollars\n",
        "dollars = sp500[['gold', 'silver']]\n",
        "\n",
        "# Print the head of dollars\n",
        "print(dollars.head())\n"
      ],
      "execution_count": null,
      "outputs": [
        {
          "output_type": "stream",
          "text": [
            "            gold  silver\n",
            "date                    \n",
            "2014-01-01   200       0\n",
            "2015-02-02   400       1\n",
            "2016-03-03   600       2\n",
            "2017-04-04   800       3\n",
            "3017-05-05     0       4\n"
          ],
          "name": "stdout"
        }
      ]
    },
    {
      "cell_type": "code",
      "metadata": {
        "id": "-M91hVh2QLWU"
      },
      "source": [
        "#  chapter-2 \n",
        "#   topic 2.2\n",
        "#USE Data2 and Data3 files to work"
      ],
      "execution_count": null,
      "outputs": []
    },
    {
      "cell_type": "code",
      "metadata": {
        "id": "vJ06p7XPBSAN",
        "outputId": "3eab3b8b-3878-4ebe-9054-889d90dc6b0e",
        "colab": {
          "base_uri": "https://localhost:8080/"
        }
      },
      "source": [
        "# Import pandas\n",
        "import pandas as pd\n",
        "\n",
        "# Create the list of file names: filenames\n",
        "data_2 = pd.read_csv('Data2.csv')\n",
        "data_3 = pd.read_csv('Data3.csv')\n",
        "print(data_2)\n",
        "print(data_3)"
      ],
      "execution_count": null,
      "outputs": [
        {
          "output_type": "stream",
          "text": [
            "     Country  cpc  drive_right Purchased   pop\n",
            "0     France   44         True        No  10.0\n",
            "1      Spain   27        False       Yes  20.0\n",
            "2    Germany   30         True        No  30.0\n",
            "3      Spain   38        False        No  20.0\n",
            "4    Germany   40         True       Yes  30.0\n",
            "5     France   35        False       Yes  10.0\n",
            "6      China   52         True        No  80.0\n",
            "7      India   48         True       Yes  60.0\n",
            "8    America   45         True        No  40.0\n",
            "9     Canada   12        False       Yes   NaN\n",
            "10  Pakistan   10         True       Yes   NaN\n",
            "  Country  gold  silver        date\n",
            "0   Qatar   200       0  2014-01-01\n",
            "1  Turkey   400       1  2015-02-02\n",
            "2   Dubai   600       2  2016-03-03\n",
            "3  Europe   800       3  2017-04-04\n",
            "4      UK     0       4  3017-05-05\n"
          ],
          "name": "stdout"
        }
      ]
    },
    {
      "cell_type": "code",
      "metadata": {
        "id": "AQnyxiNkBK-Z",
        "outputId": "f0327253-fa4f-438b-aa2d-4feb27d0290f",
        "colab": {
          "base_uri": "https://localhost:8080/"
        }
      },
      "source": [
        "# Extract the 'cpc' column from data-2\n",
        "cpc_data = data_2['cpc']\n",
        "\n",
        "# Extract the 'Units' column from mar: mar_units\n",
        "gold_data = data_3['gold']\n",
        "\n",
        "# Append feb_units and then mar_units to jan_units: quarter1\n",
        "quarter1 = cpc_data.append(gold_data)\n",
        "\n",
        "# Compute & print total sales in quarter1\n",
        "print(quarter1.sum())\n",
        "quarter1"
      ],
      "execution_count": null,
      "outputs": [
        {
          "output_type": "stream",
          "text": [
            "2381\n"
          ],
          "name": "stdout"
        },
        {
          "output_type": "execute_result",
          "data": {
            "text/plain": [
              "0      44\n",
              "1      27\n",
              "2      30\n",
              "3      38\n",
              "4      40\n",
              "5      35\n",
              "6      52\n",
              "7      48\n",
              "8      45\n",
              "9      12\n",
              "10     10\n",
              "0     200\n",
              "1     400\n",
              "2     600\n",
              "3     800\n",
              "4       0\n",
              "dtype: int64"
            ]
          },
          "metadata": {
            "tags": []
          },
          "execution_count": 43
        }
      ]
    },
    {
      "cell_type": "code",
      "metadata": {
        "id": "GfGkHpMBXJ4a",
        "outputId": "e63eaff6-8a2e-4bf7-adb9-ed0e9e248d51",
        "colab": {
          "base_uri": "https://localhost:8080/"
        }
      },
      "source": [
        "# Initialize empty list: units\n",
        "units = []\n",
        "\n",
        "# Build the list of Series\n",
        "for i in [cpc_data, gold_data]:\n",
        "    units.append(i)\n",
        "#print(units)\n",
        "# Concatenate the list: quarter1\n",
        "quarter1 = pd.concat(units, axis='rows')\n",
        "print(quarter1)\n",
        "quarter2 = pd.concat(units, axis='columns')\n",
        "print(quarter2)"
      ],
      "execution_count": null,
      "outputs": [
        {
          "output_type": "stream",
          "text": [
            "0      44\n",
            "1      27\n",
            "2      30\n",
            "3      38\n",
            "4      40\n",
            "5      35\n",
            "6      52\n",
            "7      48\n",
            "8      45\n",
            "9      12\n",
            "10     10\n",
            "0     200\n",
            "1     400\n",
            "2     600\n",
            "3     800\n",
            "4       0\n",
            "dtype: int64\n",
            "    cpc   gold\n",
            "0    44  200.0\n",
            "1    27  400.0\n",
            "2    30  600.0\n",
            "3    38  800.0\n",
            "4    40    0.0\n",
            "5    35    NaN\n",
            "6    52    NaN\n",
            "7    48    NaN\n",
            "8    45    NaN\n",
            "9    12    NaN\n",
            "10   10    NaN\n"
          ],
          "name": "stdout"
        }
      ]
    },
    {
      "cell_type": "code",
      "metadata": {
        "id": "BHQpmwrVRyCI",
        "outputId": "aaec7e9d-1204-48da-be2c-aec4890a184c",
        "colab": {
          "base_uri": "https://localhost:8080/",
          "height": 386
        }
      },
      "source": [
        "data_2"
      ],
      "execution_count": null,
      "outputs": [
        {
          "output_type": "execute_result",
          "data": {
            "text/html": [
              "<div>\n",
              "<style scoped>\n",
              "    .dataframe tbody tr th:only-of-type {\n",
              "        vertical-align: middle;\n",
              "    }\n",
              "\n",
              "    .dataframe tbody tr th {\n",
              "        vertical-align: top;\n",
              "    }\n",
              "\n",
              "    .dataframe thead th {\n",
              "        text-align: right;\n",
              "    }\n",
              "</style>\n",
              "<table border=\"1\" class=\"dataframe\">\n",
              "  <thead>\n",
              "    <tr style=\"text-align: right;\">\n",
              "      <th></th>\n",
              "      <th>Country</th>\n",
              "      <th>cpc</th>\n",
              "      <th>drive_right</th>\n",
              "      <th>Purchased</th>\n",
              "      <th>pop</th>\n",
              "    </tr>\n",
              "  </thead>\n",
              "  <tbody>\n",
              "    <tr>\n",
              "      <th>0</th>\n",
              "      <td>France</td>\n",
              "      <td>44</td>\n",
              "      <td>True</td>\n",
              "      <td>No</td>\n",
              "      <td>10.0</td>\n",
              "    </tr>\n",
              "    <tr>\n",
              "      <th>1</th>\n",
              "      <td>Spain</td>\n",
              "      <td>27</td>\n",
              "      <td>False</td>\n",
              "      <td>Yes</td>\n",
              "      <td>20.0</td>\n",
              "    </tr>\n",
              "    <tr>\n",
              "      <th>2</th>\n",
              "      <td>Germany</td>\n",
              "      <td>30</td>\n",
              "      <td>True</td>\n",
              "      <td>No</td>\n",
              "      <td>30.0</td>\n",
              "    </tr>\n",
              "    <tr>\n",
              "      <th>3</th>\n",
              "      <td>Spain</td>\n",
              "      <td>38</td>\n",
              "      <td>False</td>\n",
              "      <td>No</td>\n",
              "      <td>20.0</td>\n",
              "    </tr>\n",
              "    <tr>\n",
              "      <th>4</th>\n",
              "      <td>Germany</td>\n",
              "      <td>40</td>\n",
              "      <td>True</td>\n",
              "      <td>Yes</td>\n",
              "      <td>30.0</td>\n",
              "    </tr>\n",
              "    <tr>\n",
              "      <th>5</th>\n",
              "      <td>France</td>\n",
              "      <td>35</td>\n",
              "      <td>False</td>\n",
              "      <td>Yes</td>\n",
              "      <td>10.0</td>\n",
              "    </tr>\n",
              "    <tr>\n",
              "      <th>6</th>\n",
              "      <td>China</td>\n",
              "      <td>52</td>\n",
              "      <td>True</td>\n",
              "      <td>No</td>\n",
              "      <td>80.0</td>\n",
              "    </tr>\n",
              "    <tr>\n",
              "      <th>7</th>\n",
              "      <td>India</td>\n",
              "      <td>48</td>\n",
              "      <td>True</td>\n",
              "      <td>Yes</td>\n",
              "      <td>60.0</td>\n",
              "    </tr>\n",
              "    <tr>\n",
              "      <th>8</th>\n",
              "      <td>America</td>\n",
              "      <td>45</td>\n",
              "      <td>True</td>\n",
              "      <td>No</td>\n",
              "      <td>40.0</td>\n",
              "    </tr>\n",
              "    <tr>\n",
              "      <th>9</th>\n",
              "      <td>Canada</td>\n",
              "      <td>12</td>\n",
              "      <td>False</td>\n",
              "      <td>Yes</td>\n",
              "      <td>NaN</td>\n",
              "    </tr>\n",
              "    <tr>\n",
              "      <th>10</th>\n",
              "      <td>Pakistan</td>\n",
              "      <td>10</td>\n",
              "      <td>True</td>\n",
              "      <td>Yes</td>\n",
              "      <td>NaN</td>\n",
              "    </tr>\n",
              "  </tbody>\n",
              "</table>\n",
              "</div>"
            ],
            "text/plain": [
              "     Country  cpc  drive_right Purchased   pop\n",
              "0     France   44         True        No  10.0\n",
              "1      Spain   27        False       Yes  20.0\n",
              "2    Germany   30         True        No  30.0\n",
              "3      Spain   38        False        No  20.0\n",
              "4    Germany   40         True       Yes  30.0\n",
              "5     France   35        False       Yes  10.0\n",
              "6      China   52         True        No  80.0\n",
              "7      India   48         True       Yes  60.0\n",
              "8    America   45         True        No  40.0\n",
              "9     Canada   12        False       Yes   NaN\n",
              "10  Pakistan   10         True       Yes   NaN"
            ]
          },
          "metadata": {
            "tags": []
          },
          "execution_count": 36
        }
      ]
    },
    {
      "cell_type": "code",
      "metadata": {
        "id": "fRyuWi3jXUqF",
        "outputId": "0cd993b7-e3e3-4e85-fc3b-59f0e3d3b11b",
        "colab": {
          "base_uri": "https://localhost:8080/",
          "height": 539
        }
      },
      "source": [
        "# Add 'year' column to data_2 and data_3\n",
        "data_2['year1'] = data_3['gold']\n",
        "data_2['year2'] = data_3['silver']\n",
        "data_2\n",
        "# Append names_1981 after names_1881 with ignore_index=True: combined_names\n",
        "combined_names = data_2.append(data_3, ignore_index=True)\n",
        "combined_names"
      ],
      "execution_count": null,
      "outputs": [
        {
          "output_type": "execute_result",
          "data": {
            "text/html": [
              "<div>\n",
              "<style scoped>\n",
              "    .dataframe tbody tr th:only-of-type {\n",
              "        vertical-align: middle;\n",
              "    }\n",
              "\n",
              "    .dataframe tbody tr th {\n",
              "        vertical-align: top;\n",
              "    }\n",
              "\n",
              "    .dataframe thead th {\n",
              "        text-align: right;\n",
              "    }\n",
              "</style>\n",
              "<table border=\"1\" class=\"dataframe\">\n",
              "  <thead>\n",
              "    <tr style=\"text-align: right;\">\n",
              "      <th></th>\n",
              "      <th>Country</th>\n",
              "      <th>cpc</th>\n",
              "      <th>drive_right</th>\n",
              "      <th>Purchased</th>\n",
              "      <th>pop</th>\n",
              "      <th>year1</th>\n",
              "      <th>year2</th>\n",
              "      <th>gold</th>\n",
              "      <th>silver</th>\n",
              "      <th>date</th>\n",
              "    </tr>\n",
              "  </thead>\n",
              "  <tbody>\n",
              "    <tr>\n",
              "      <th>0</th>\n",
              "      <td>France</td>\n",
              "      <td>44.0</td>\n",
              "      <td>True</td>\n",
              "      <td>No</td>\n",
              "      <td>10.0</td>\n",
              "      <td>200.0</td>\n",
              "      <td>0.0</td>\n",
              "      <td>NaN</td>\n",
              "      <td>NaN</td>\n",
              "      <td>NaN</td>\n",
              "    </tr>\n",
              "    <tr>\n",
              "      <th>1</th>\n",
              "      <td>Spain</td>\n",
              "      <td>27.0</td>\n",
              "      <td>False</td>\n",
              "      <td>Yes</td>\n",
              "      <td>20.0</td>\n",
              "      <td>400.0</td>\n",
              "      <td>1.0</td>\n",
              "      <td>NaN</td>\n",
              "      <td>NaN</td>\n",
              "      <td>NaN</td>\n",
              "    </tr>\n",
              "    <tr>\n",
              "      <th>2</th>\n",
              "      <td>Germany</td>\n",
              "      <td>30.0</td>\n",
              "      <td>True</td>\n",
              "      <td>No</td>\n",
              "      <td>30.0</td>\n",
              "      <td>600.0</td>\n",
              "      <td>2.0</td>\n",
              "      <td>NaN</td>\n",
              "      <td>NaN</td>\n",
              "      <td>NaN</td>\n",
              "    </tr>\n",
              "    <tr>\n",
              "      <th>3</th>\n",
              "      <td>Spain</td>\n",
              "      <td>38.0</td>\n",
              "      <td>False</td>\n",
              "      <td>No</td>\n",
              "      <td>20.0</td>\n",
              "      <td>800.0</td>\n",
              "      <td>3.0</td>\n",
              "      <td>NaN</td>\n",
              "      <td>NaN</td>\n",
              "      <td>NaN</td>\n",
              "    </tr>\n",
              "    <tr>\n",
              "      <th>4</th>\n",
              "      <td>Germany</td>\n",
              "      <td>40.0</td>\n",
              "      <td>True</td>\n",
              "      <td>Yes</td>\n",
              "      <td>30.0</td>\n",
              "      <td>0.0</td>\n",
              "      <td>4.0</td>\n",
              "      <td>NaN</td>\n",
              "      <td>NaN</td>\n",
              "      <td>NaN</td>\n",
              "    </tr>\n",
              "    <tr>\n",
              "      <th>5</th>\n",
              "      <td>France</td>\n",
              "      <td>35.0</td>\n",
              "      <td>False</td>\n",
              "      <td>Yes</td>\n",
              "      <td>10.0</td>\n",
              "      <td>NaN</td>\n",
              "      <td>NaN</td>\n",
              "      <td>NaN</td>\n",
              "      <td>NaN</td>\n",
              "      <td>NaN</td>\n",
              "    </tr>\n",
              "    <tr>\n",
              "      <th>6</th>\n",
              "      <td>China</td>\n",
              "      <td>52.0</td>\n",
              "      <td>True</td>\n",
              "      <td>No</td>\n",
              "      <td>80.0</td>\n",
              "      <td>NaN</td>\n",
              "      <td>NaN</td>\n",
              "      <td>NaN</td>\n",
              "      <td>NaN</td>\n",
              "      <td>NaN</td>\n",
              "    </tr>\n",
              "    <tr>\n",
              "      <th>7</th>\n",
              "      <td>India</td>\n",
              "      <td>48.0</td>\n",
              "      <td>True</td>\n",
              "      <td>Yes</td>\n",
              "      <td>60.0</td>\n",
              "      <td>NaN</td>\n",
              "      <td>NaN</td>\n",
              "      <td>NaN</td>\n",
              "      <td>NaN</td>\n",
              "      <td>NaN</td>\n",
              "    </tr>\n",
              "    <tr>\n",
              "      <th>8</th>\n",
              "      <td>America</td>\n",
              "      <td>45.0</td>\n",
              "      <td>True</td>\n",
              "      <td>No</td>\n",
              "      <td>40.0</td>\n",
              "      <td>NaN</td>\n",
              "      <td>NaN</td>\n",
              "      <td>NaN</td>\n",
              "      <td>NaN</td>\n",
              "      <td>NaN</td>\n",
              "    </tr>\n",
              "    <tr>\n",
              "      <th>9</th>\n",
              "      <td>Canada</td>\n",
              "      <td>12.0</td>\n",
              "      <td>False</td>\n",
              "      <td>Yes</td>\n",
              "      <td>NaN</td>\n",
              "      <td>NaN</td>\n",
              "      <td>NaN</td>\n",
              "      <td>NaN</td>\n",
              "      <td>NaN</td>\n",
              "      <td>NaN</td>\n",
              "    </tr>\n",
              "    <tr>\n",
              "      <th>10</th>\n",
              "      <td>Pakistan</td>\n",
              "      <td>10.0</td>\n",
              "      <td>True</td>\n",
              "      <td>Yes</td>\n",
              "      <td>NaN</td>\n",
              "      <td>NaN</td>\n",
              "      <td>NaN</td>\n",
              "      <td>NaN</td>\n",
              "      <td>NaN</td>\n",
              "      <td>NaN</td>\n",
              "    </tr>\n",
              "    <tr>\n",
              "      <th>11</th>\n",
              "      <td>Qatar</td>\n",
              "      <td>NaN</td>\n",
              "      <td>NaN</td>\n",
              "      <td>NaN</td>\n",
              "      <td>NaN</td>\n",
              "      <td>NaN</td>\n",
              "      <td>NaN</td>\n",
              "      <td>200.0</td>\n",
              "      <td>0.0</td>\n",
              "      <td>2014-01-01</td>\n",
              "    </tr>\n",
              "    <tr>\n",
              "      <th>12</th>\n",
              "      <td>Turkey</td>\n",
              "      <td>NaN</td>\n",
              "      <td>NaN</td>\n",
              "      <td>NaN</td>\n",
              "      <td>NaN</td>\n",
              "      <td>NaN</td>\n",
              "      <td>NaN</td>\n",
              "      <td>400.0</td>\n",
              "      <td>1.0</td>\n",
              "      <td>2015-02-02</td>\n",
              "    </tr>\n",
              "    <tr>\n",
              "      <th>13</th>\n",
              "      <td>Dubai</td>\n",
              "      <td>NaN</td>\n",
              "      <td>NaN</td>\n",
              "      <td>NaN</td>\n",
              "      <td>NaN</td>\n",
              "      <td>NaN</td>\n",
              "      <td>NaN</td>\n",
              "      <td>600.0</td>\n",
              "      <td>2.0</td>\n",
              "      <td>2016-03-03</td>\n",
              "    </tr>\n",
              "    <tr>\n",
              "      <th>14</th>\n",
              "      <td>Europe</td>\n",
              "      <td>NaN</td>\n",
              "      <td>NaN</td>\n",
              "      <td>NaN</td>\n",
              "      <td>NaN</td>\n",
              "      <td>NaN</td>\n",
              "      <td>NaN</td>\n",
              "      <td>800.0</td>\n",
              "      <td>3.0</td>\n",
              "      <td>2017-04-04</td>\n",
              "    </tr>\n",
              "    <tr>\n",
              "      <th>15</th>\n",
              "      <td>UK</td>\n",
              "      <td>NaN</td>\n",
              "      <td>NaN</td>\n",
              "      <td>NaN</td>\n",
              "      <td>NaN</td>\n",
              "      <td>NaN</td>\n",
              "      <td>NaN</td>\n",
              "      <td>0.0</td>\n",
              "      <td>4.0</td>\n",
              "      <td>3017-05-05</td>\n",
              "    </tr>\n",
              "  </tbody>\n",
              "</table>\n",
              "</div>"
            ],
            "text/plain": [
              "     Country   cpc drive_right Purchased  ...  year2   gold  silver        date\n",
              "0     France  44.0        True        No  ...    0.0    NaN     NaN         NaN\n",
              "1      Spain  27.0       False       Yes  ...    1.0    NaN     NaN         NaN\n",
              "2    Germany  30.0        True        No  ...    2.0    NaN     NaN         NaN\n",
              "3      Spain  38.0       False        No  ...    3.0    NaN     NaN         NaN\n",
              "4    Germany  40.0        True       Yes  ...    4.0    NaN     NaN         NaN\n",
              "5     France  35.0       False       Yes  ...    NaN    NaN     NaN         NaN\n",
              "6      China  52.0        True        No  ...    NaN    NaN     NaN         NaN\n",
              "7      India  48.0        True       Yes  ...    NaN    NaN     NaN         NaN\n",
              "8    America  45.0        True        No  ...    NaN    NaN     NaN         NaN\n",
              "9     Canada  12.0       False       Yes  ...    NaN    NaN     NaN         NaN\n",
              "10  Pakistan  10.0        True       Yes  ...    NaN    NaN     NaN         NaN\n",
              "11     Qatar   NaN         NaN       NaN  ...    NaN  200.0     0.0  2014-01-01\n",
              "12    Turkey   NaN         NaN       NaN  ...    NaN  400.0     1.0  2015-02-02\n",
              "13     Dubai   NaN         NaN       NaN  ...    NaN  600.0     2.0  2016-03-03\n",
              "14    Europe   NaN         NaN       NaN  ...    NaN  800.0     3.0  2017-04-04\n",
              "15        UK   NaN         NaN       NaN  ...    NaN    0.0     4.0  3017-05-05\n",
              "\n",
              "[16 rows x 10 columns]"
            ]
          },
          "metadata": {
            "tags": []
          },
          "execution_count": 41
        }
      ]
    },
    {
      "cell_type": "code",
      "metadata": {
        "id": "bdLzVSqobN7F",
        "outputId": "92dd356d-5a4c-4fca-8d5a-2fbd422f2f43",
        "colab": {
          "base_uri": "https://localhost:8080/"
        }
      },
      "source": [
        "# Sort the entries of cpc:\n",
        "cpc_sorted = data_2.sort_index(level=0)\n",
        "print(cpc_sorted)\n",
        "# Print the number for china and india\n",
        "print(cpc_sorted.iloc[2:4,:])\n",
        "\n",
        "# Print data about silver medals\n",
        "print(cpc_sorted.iloc[4])"
      ],
      "execution_count": null,
      "outputs": [
        {
          "output_type": "stream",
          "text": [
            "     Country  cpc  drive_right Purchased   pop  year1  year2\n",
            "0     France   44         True        No  10.0  200.0    0.0\n",
            "1      Spain   27        False       Yes  20.0  400.0    1.0\n",
            "2    Germany   30         True        No  30.0  600.0    2.0\n",
            "3      Spain   38        False        No  20.0  800.0    3.0\n",
            "4    Germany   40         True       Yes  30.0    0.0    4.0\n",
            "5     France   35        False       Yes  10.0    NaN    NaN\n",
            "6      China   52         True        No  80.0    NaN    NaN\n",
            "7      India   48         True       Yes  60.0    NaN    NaN\n",
            "8    America   45         True        No  40.0    NaN    NaN\n",
            "9     Canada   12        False       Yes   NaN    NaN    NaN\n",
            "10  Pakistan   10         True       Yes   NaN    NaN    NaN\n",
            "   Country  cpc  drive_right Purchased   pop  year1  year2\n",
            "2  Germany   30         True        No  30.0  600.0    2.0\n",
            "3    Spain   38        False        No  20.0  800.0    3.0\n",
            "Country        Germany\n",
            "cpc                 40\n",
            "drive_right       True\n",
            "Purchased          Yes\n",
            "pop                 30\n",
            "year1                0\n",
            "year2                4\n",
            "Name: 4, dtype: object\n"
          ],
          "name": "stdout"
        }
      ]
    },
    {
      "cell_type": "code",
      "metadata": {
        "id": "nqoSfMykfOF5"
      },
      "source": [
        "# Make the list of tuples: month_list\n",
        "month_list = [('january', jan), ('february', feb), ('march', mar)]\n",
        "\n",
        "# Create an empty dictionary: month_dict\n",
        "month_dict = {}\n",
        "\n",
        "for month_name, month_data in month_list:\n",
        "\n",
        "    # Group month_data: month_dict[month_name]\n",
        "    month_dict[month_name] = month_data.groupby('Company').sum()\n",
        "\n",
        "# Concatenate data in month_dict: sales\n",
        "sales = pd.concat(month_dict)\n",
        "\n",
        "# Print sales\n",
        "print(sales)"
      ],
      "execution_count": null,
      "outputs": []
    },
    {
      "cell_type": "code",
      "metadata": {
        "id": "4p72t1DkOrrp"
      },
      "source": [
        "#  chapter-2 \n",
        "#   topic 2.3: You'll explore different techniques for merging, \n",
        "# and learn about left joins, right joins, inner joins, and outer joins, \n",
        "# as well as when to use which.\n",
        "#USE Book1 and Book2 files to work"
      ],
      "execution_count": null,
      "outputs": []
    },
    {
      "cell_type": "code",
      "metadata": {
        "id": "AP0sAsHdWrEG",
        "outputId": "e634c80c-481c-444c-fc22-fef9d4e9a646",
        "colab": {
          "base_uri": "https://localhost:8080/"
        }
      },
      "source": [
        "# Create the list of file names: filenames\n",
        "import pandas as pd\n",
        "\n",
        "revenue = pd.read_csv('Book1.csv')\n",
        "managers = pd.read_csv('Book2.csv')\n",
        "print(revenue)\n",
        "print(managers)"
      ],
      "execution_count": 15,
      "outputs": [
        {
          "output_type": "stream",
          "text": [
            "     city  revenue  branch_id\n",
            "0  austin      100         10\n",
            "1  denver       83         20\n",
            "2  spring        4         30\n",
            "3  mexico      200         47\n",
            "     city managers  branch_id\n",
            "0  austin      tom         10\n",
            "1  denver      jon         20\n",
            "2  mexico  charles         47\n",
            "3  spring    jassy         31\n"
          ],
          "name": "stdout"
        }
      ]
    },
    {
      "cell_type": "code",
      "metadata": {
        "id": "j3f5QFpKlVJr",
        "outputId": "f8787344-0d13-4e74-fef4-d37174c34273",
        "colab": {
          "base_uri": "https://localhost:8080/",
          "height": 171
        }
      },
      "source": [
        "managers['branch']=managers['city']\n",
        "managers"
      ],
      "execution_count": 17,
      "outputs": [
        {
          "output_type": "execute_result",
          "data": {
            "text/html": [
              "<div>\n",
              "<style scoped>\n",
              "    .dataframe tbody tr th:only-of-type {\n",
              "        vertical-align: middle;\n",
              "    }\n",
              "\n",
              "    .dataframe tbody tr th {\n",
              "        vertical-align: top;\n",
              "    }\n",
              "\n",
              "    .dataframe thead th {\n",
              "        text-align: right;\n",
              "    }\n",
              "</style>\n",
              "<table border=\"1\" class=\"dataframe\">\n",
              "  <thead>\n",
              "    <tr style=\"text-align: right;\">\n",
              "      <th></th>\n",
              "      <th>city</th>\n",
              "      <th>managers</th>\n",
              "      <th>branch_id</th>\n",
              "      <th>branch</th>\n",
              "    </tr>\n",
              "  </thead>\n",
              "  <tbody>\n",
              "    <tr>\n",
              "      <th>0</th>\n",
              "      <td>austin</td>\n",
              "      <td>tom</td>\n",
              "      <td>10</td>\n",
              "      <td>austin</td>\n",
              "    </tr>\n",
              "    <tr>\n",
              "      <th>1</th>\n",
              "      <td>denver</td>\n",
              "      <td>jon</td>\n",
              "      <td>20</td>\n",
              "      <td>denver</td>\n",
              "    </tr>\n",
              "    <tr>\n",
              "      <th>2</th>\n",
              "      <td>mexico</td>\n",
              "      <td>charles</td>\n",
              "      <td>47</td>\n",
              "      <td>mexico</td>\n",
              "    </tr>\n",
              "    <tr>\n",
              "      <th>3</th>\n",
              "      <td>spring</td>\n",
              "      <td>jassy</td>\n",
              "      <td>31</td>\n",
              "      <td>spring</td>\n",
              "    </tr>\n",
              "  </tbody>\n",
              "</table>\n",
              "</div>"
            ],
            "text/plain": [
              "     city managers  branch_id  branch\n",
              "0  austin      tom         10  austin\n",
              "1  denver      jon         20  denver\n",
              "2  mexico  charles         47  mexico\n",
              "3  spring    jassy         31  spring"
            ]
          },
          "metadata": {
            "tags": []
          },
          "execution_count": 17
        }
      ]
    },
    {
      "cell_type": "code",
      "metadata": {
        "id": "-adQ9MiNOtpp",
        "outputId": "8f6cd421-b6c9-4da2-ad1a-508bcf67ad28",
        "colab": {
          "base_uri": "https://localhost:8080/"
        }
      },
      "source": [
        "# Merge revenue with managers on 'city': merge_by_city\n",
        "merge_by_city = pd.merge(revenue, managers, on='city')\n",
        "\n",
        "# Print merge_by_city\n",
        "print(merge_by_city)\n",
        "\n",
        "# Merge revenue with managers on 'branch_id': merge_by_id\n",
        "merge_by_id = pd.merge(revenue, managers, on='branch_id')\n",
        "\n",
        "# Print merge_by_id\n",
        "print(merge_by_id)"
      ],
      "execution_count": 14,
      "outputs": [
        {
          "output_type": "stream",
          "text": [
            "     city  revenue  branch_id_x state_x managers  branch_id_y state_y\n",
            "0  austin      100           10      TX      tom           10      TX\n",
            "1  denver       83           20      CO      jon           20      CO\n",
            "2  spring        4           30      IL    jassy           31      MO\n",
            "3  mexico      200           47      CA  charles           47      CA\n",
            "   city_x  revenue  branch_id state_x  city_y managers state_y\n",
            "0  austin      100         10      TX  austin      tom      TX\n",
            "1  denver       83         20      CO  denver      jon      CO\n",
            "2  mexico      200         47      CA  mexico  charles      CA\n"
          ],
          "name": "stdout"
        }
      ]
    },
    {
      "cell_type": "code",
      "metadata": {
        "id": "vlF_u-c5XEEE",
        "outputId": "e5475c72-2922-4a18-c812-07f02b818530",
        "colab": {
          "base_uri": "https://localhost:8080/"
        }
      },
      "source": [
        "# Merge revenue & managers on 'city' & 'branch': combined\n",
        "combined = pd.merge(revenue, managers, left_on='city', right_on='branch')\n",
        "\n",
        "# Print combined\n",
        "print(combined)"
      ],
      "execution_count": 18,
      "outputs": [
        {
          "output_type": "stream",
          "text": [
            "   city_x  revenue  branch_id_x  city_y managers  branch_id_y  branch\n",
            "0  austin      100           10  austin      tom           10  austin\n",
            "1  denver       83           20  denver      jon           20  denver\n",
            "2  spring        4           30  spring    jassy           31  spring\n",
            "3  mexico      200           47  mexico  charles           47  mexico\n"
          ],
          "name": "stdout"
        }
      ]
    },
    {
      "cell_type": "code",
      "metadata": {
        "id": "tSOdopg_cL0M",
        "outputId": "d708c1e4-7656-4e4c-98ab-22e89d8052c3",
        "colab": {
          "base_uri": "https://localhost:8080/"
        }
      },
      "source": [
        "# Add 'state' column to revenue: revenue['state']\n",
        "revenue['state'] = ['TX','CO','IL','CA']\n",
        "\n",
        "# Add 'state' column to managers: managers['state']\n",
        "managers['state'] = ['TX','CO','CA','MO']\n",
        "\n",
        "# Merge revenue & managers on 'branch_id', 'city', & 'state': combined\n",
        "combined = pd.merge(revenue, managers, on=['branch_id', 'city', 'state'])\n",
        "\n",
        "# Print combined\n",
        "print(combined)"
      ],
      "execution_count": 19,
      "outputs": [
        {
          "output_type": "stream",
          "text": [
            "     city  revenue  branch_id state managers  branch\n",
            "0  austin      100         10    TX      tom  austin\n",
            "1  denver       83         20    CO      jon  denver\n",
            "2  mexico      200         47    CA  charles  mexico\n"
          ],
          "name": "stdout"
        }
      ]
    },
    {
      "cell_type": "code",
      "metadata": {
        "id": "RQe3O5iwlz_O",
        "outputId": "b0aa075c-f005-4791-f72d-4b43df281156",
        "colab": {
          "base_uri": "https://localhost:8080/"
        }
      },
      "source": [
        "# Merge revenue and sales: revenue_and_sales\n",
        "revenue_and_sales = pd.merge(revenue, managers, how='right', on=['city', 'state'])\n",
        "\n",
        "# Print revenue_and_sales\n",
        "print(revenue_and_sales)\n",
        "\n",
        "# Merge sales and managers: sales_and_managers\n",
        "sales_and_managers = pd.merge(managers, revenue, how='left', left_on=['city'], right_on=['state'])\n",
        "\n",
        "# Print sales_and_managers\n",
        "print(sales_and_managers)"
      ],
      "execution_count": 23,
      "outputs": [
        {
          "output_type": "stream",
          "text": [
            "     city  revenue  branch_id_x state managers  branch_id_y  branch\n",
            "0  austin    100.0         10.0    TX      tom           10  austin\n",
            "1  denver     83.0         20.0    CO      jon           20  denver\n",
            "2  mexico    200.0         47.0    CA  charles           47  mexico\n",
            "3  spring      NaN          NaN    MO    jassy           31  spring\n",
            "   city_x managers  branch_id_x  branch  ... city_y revenue  branch_id_y  state_y\n",
            "0  austin      tom           10  austin  ...    NaN     NaN          NaN      NaN\n",
            "1  denver      jon           20  denver  ...    NaN     NaN          NaN      NaN\n",
            "2  mexico  charles           47  mexico  ...    NaN     NaN          NaN      NaN\n",
            "3  spring    jassy           31  spring  ...    NaN     NaN          NaN      NaN\n",
            "\n",
            "[4 rows x 9 columns]\n"
          ],
          "name": "stdout"
        }
      ]
    },
    {
      "cell_type": "code",
      "metadata": {
        "id": "5cOodWu523ac",
        "outputId": "58e21318-0785-4d3d-883d-1af52a5d462b",
        "colab": {
          "base_uri": "https://localhost:8080/"
        }
      },
      "source": [
        "print(revenue)\n",
        "print(managers)"
      ],
      "execution_count": 25,
      "outputs": [
        {
          "output_type": "stream",
          "text": [
            "     city  revenue  branch_id state\n",
            "0  austin      100         10    TX\n",
            "1  denver       83         20    CO\n",
            "2  spring        4         30    IL\n",
            "3  mexico      200         47    CA\n",
            "     city managers  branch_id  branch state\n",
            "0  austin      tom         10  austin    TX\n",
            "1  denver      jon         20  denver    CO\n",
            "2  mexico  charles         47  mexico    CA\n",
            "3  spring    jassy         31  spring    MO\n"
          ],
          "name": "stdout"
        }
      ]
    },
    {
      "cell_type": "code",
      "metadata": {
        "id": "SYu29ij8maTz",
        "outputId": "cb39f04d-d8c8-45d3-feef-e9c73c408e5d",
        "colab": {
          "base_uri": "https://localhost:8080/"
        }
      },
      "source": [
        "# Merge revenue & managers on 'branch_id', 'city', & 'state': combined\n",
        "combined_outer = pd.merge(revenue, managers, on=['city', 'state'], how='outer')\n",
        "#merge_outer_on = pd.merge(sales_and_managers, revenue_and_sales, on=['city', 'state'], how='outer')\n",
        "# Print combined\n",
        "print(combined_outer)"
      ],
      "execution_count": 24,
      "outputs": [
        {
          "output_type": "stream",
          "text": [
            "     city  revenue  branch_id_x state managers  branch_id_y  branch\n",
            "0  austin    100.0         10.0    TX      tom         10.0  austin\n",
            "1  denver     83.0         20.0    CO      jon         20.0  denver\n",
            "2  spring      4.0         30.0    IL      NaN          NaN     NaN\n",
            "3  mexico    200.0         47.0    CA  charles         47.0  mexico\n",
            "4  spring      NaN          NaN    MO    jassy         31.0  spring\n"
          ],
          "name": "stdout"
        }
      ]
    },
    {
      "cell_type": "code",
      "metadata": {
        "id": "kMpsew9V3nt1",
        "outputId": "b264701a-c115-474d-9d76-f8732bf386a0",
        "colab": {
          "base_uri": "https://localhost:8080/"
        }
      },
      "source": [
        "print(revenue)\n",
        "print(managers)"
      ],
      "execution_count": 33,
      "outputs": [
        {
          "output_type": "stream",
          "text": [
            "     city  revenue  branch_id state\n",
            "0  austin      100         10    TX\n",
            "1  denver       83         20    CO\n",
            "2  spring        4         30    IL\n",
            "3  mexico      200         47    CA\n",
            "     city managers  branch_id  branch state\n",
            "0  austin      tom         10  austin    TX\n",
            "1  denver      jon         20  denver    CO\n",
            "2  mexico  charles         47  mexico    CA\n",
            "3  spring    jassy         31  spring    MO\n"
          ],
          "name": "stdout"
        }
      ]
    },
    {
      "cell_type": "code",
      "metadata": {
        "id": "NVHbNeZp2www",
        "outputId": "227ef907-11a6-4960-d2a9-8009f96f464d",
        "colab": {
          "base_uri": "https://localhost:8080/"
        }
      },
      "source": [
        "# Perform the first ordered merge: tx_weather\n",
        "tx_order = pd.merge_ordered(revenue, managers)\n",
        "\n",
        "# Print tx_weather\n",
        "print(tx_order)"
      ],
      "execution_count": 26,
      "outputs": [
        {
          "output_type": "stream",
          "text": [
            "     city  revenue  branch_id state managers  branch\n",
            "0  austin    100.0         10    TX      tom  austin\n",
            "1  denver     83.0         20    CO      jon  denver\n",
            "2  mexico    200.0         47    CA  charles  mexico\n",
            "3  spring      4.0         30    IL      NaN     NaN\n",
            "4  spring      NaN         31    MO    jassy  spring\n"
          ],
          "name": "stdout"
        }
      ]
    },
    {
      "cell_type": "code",
      "metadata": {
        "id": "npPJHZWg3iRT",
        "outputId": "81fa2b3d-cf4f-4f44-f4de-ebd7484a5b64",
        "colab": {
          "base_uri": "https://localhost:8080/",
          "height": 381
        }
      },
      "source": [
        "# Merge revenue and managers\n",
        "merged = pd.merge_asof(revenue, managers, left_on='branch_id', right_on='state')\n",
        "\n",
        "# Print the tail of merged\n",
        "print(merged.tail())"
      ],
      "execution_count": 34,
      "outputs": [
        {
          "output_type": "error",
          "ename": "MergeError",
          "evalue": "ignored",
          "traceback": [
            "\u001b[0;31m---------------------------------------------------------------------------\u001b[0m",
            "\u001b[0;31mMergeError\u001b[0m                                Traceback (most recent call last)",
            "\u001b[0;32m<ipython-input-34-1fb67d046c29>\u001b[0m in \u001b[0;36m<module>\u001b[0;34m()\u001b[0m\n\u001b[1;32m      1\u001b[0m \u001b[0;31m# Merge revenue and managers\u001b[0m\u001b[0;34m\u001b[0m\u001b[0;34m\u001b[0m\u001b[0;34m\u001b[0m\u001b[0m\n\u001b[0;32m----> 2\u001b[0;31m \u001b[0mmerged\u001b[0m \u001b[0;34m=\u001b[0m \u001b[0mpd\u001b[0m\u001b[0;34m.\u001b[0m\u001b[0mmerge_asof\u001b[0m\u001b[0;34m(\u001b[0m\u001b[0mrevenue\u001b[0m\u001b[0;34m,\u001b[0m \u001b[0mmanagers\u001b[0m\u001b[0;34m,\u001b[0m \u001b[0mleft_on\u001b[0m\u001b[0;34m=\u001b[0m\u001b[0;34m'branch_id'\u001b[0m\u001b[0;34m,\u001b[0m \u001b[0mright_on\u001b[0m\u001b[0;34m=\u001b[0m\u001b[0;34m'state'\u001b[0m\u001b[0;34m)\u001b[0m\u001b[0;34m\u001b[0m\u001b[0;34m\u001b[0m\u001b[0m\n\u001b[0m\u001b[1;32m      3\u001b[0m \u001b[0;34m\u001b[0m\u001b[0m\n\u001b[1;32m      4\u001b[0m \u001b[0;31m# Print the tail of merged\u001b[0m\u001b[0;34m\u001b[0m\u001b[0;34m\u001b[0m\u001b[0;34m\u001b[0m\u001b[0m\n\u001b[1;32m      5\u001b[0m \u001b[0mprint\u001b[0m\u001b[0;34m(\u001b[0m\u001b[0mmerged\u001b[0m\u001b[0;34m.\u001b[0m\u001b[0mtail\u001b[0m\u001b[0;34m(\u001b[0m\u001b[0;34m)\u001b[0m\u001b[0;34m)\u001b[0m\u001b[0;34m\u001b[0m\u001b[0;34m\u001b[0m\u001b[0m\n",
            "\u001b[0;32m/usr/local/lib/python3.6/dist-packages/pandas/core/reshape/merge.py\u001b[0m in \u001b[0;36mmerge_asof\u001b[0;34m(left, right, on, left_on, right_on, left_index, right_index, by, left_by, right_by, suffixes, tolerance, allow_exact_matches, direction)\u001b[0m\n\u001b[1;32m    559\u001b[0m         \u001b[0mtolerance\u001b[0m\u001b[0;34m=\u001b[0m\u001b[0mtolerance\u001b[0m\u001b[0;34m,\u001b[0m\u001b[0;34m\u001b[0m\u001b[0;34m\u001b[0m\u001b[0m\n\u001b[1;32m    560\u001b[0m         \u001b[0mallow_exact_matches\u001b[0m\u001b[0;34m=\u001b[0m\u001b[0mallow_exact_matches\u001b[0m\u001b[0;34m,\u001b[0m\u001b[0;34m\u001b[0m\u001b[0;34m\u001b[0m\u001b[0m\n\u001b[0;32m--> 561\u001b[0;31m         \u001b[0mdirection\u001b[0m\u001b[0;34m=\u001b[0m\u001b[0mdirection\u001b[0m\u001b[0;34m,\u001b[0m\u001b[0;34m\u001b[0m\u001b[0;34m\u001b[0m\u001b[0m\n\u001b[0m\u001b[1;32m    562\u001b[0m     )\n\u001b[1;32m    563\u001b[0m     \u001b[0;32mreturn\u001b[0m \u001b[0mop\u001b[0m\u001b[0;34m.\u001b[0m\u001b[0mget_result\u001b[0m\u001b[0;34m(\u001b[0m\u001b[0;34m)\u001b[0m\u001b[0;34m\u001b[0m\u001b[0;34m\u001b[0m\u001b[0m\n",
            "\u001b[0;32m/usr/local/lib/python3.6/dist-packages/pandas/core/reshape/merge.py\u001b[0m in \u001b[0;36m__init__\u001b[0;34m(self, left, right, on, left_on, right_on, left_index, right_index, by, left_by, right_by, axis, suffixes, copy, fill_method, how, tolerance, allow_exact_matches, direction)\u001b[0m\n\u001b[1;32m   1583\u001b[0m             \u001b[0mhow\u001b[0m\u001b[0;34m=\u001b[0m\u001b[0mhow\u001b[0m\u001b[0;34m,\u001b[0m\u001b[0;34m\u001b[0m\u001b[0;34m\u001b[0m\u001b[0m\n\u001b[1;32m   1584\u001b[0m             \u001b[0msuffixes\u001b[0m\u001b[0;34m=\u001b[0m\u001b[0msuffixes\u001b[0m\u001b[0;34m,\u001b[0m\u001b[0;34m\u001b[0m\u001b[0;34m\u001b[0m\u001b[0m\n\u001b[0;32m-> 1585\u001b[0;31m             \u001b[0mfill_method\u001b[0m\u001b[0;34m=\u001b[0m\u001b[0mfill_method\u001b[0m\u001b[0;34m,\u001b[0m\u001b[0;34m\u001b[0m\u001b[0;34m\u001b[0m\u001b[0m\n\u001b[0m\u001b[1;32m   1586\u001b[0m         )\n\u001b[1;32m   1587\u001b[0m \u001b[0;34m\u001b[0m\u001b[0m\n",
            "\u001b[0;32m/usr/local/lib/python3.6/dist-packages/pandas/core/reshape/merge.py\u001b[0m in \u001b[0;36m__init__\u001b[0;34m(self, left, right, on, left_on, right_on, left_index, right_index, axis, suffixes, copy, fill_method, how)\u001b[0m\n\u001b[1;32m   1477\u001b[0m             \u001b[0mhow\u001b[0m\u001b[0;34m=\u001b[0m\u001b[0mhow\u001b[0m\u001b[0;34m,\u001b[0m\u001b[0;34m\u001b[0m\u001b[0;34m\u001b[0m\u001b[0m\n\u001b[1;32m   1478\u001b[0m             \u001b[0msuffixes\u001b[0m\u001b[0;34m=\u001b[0m\u001b[0msuffixes\u001b[0m\u001b[0;34m,\u001b[0m\u001b[0;34m\u001b[0m\u001b[0;34m\u001b[0m\u001b[0m\n\u001b[0;32m-> 1479\u001b[0;31m             \u001b[0msort\u001b[0m\u001b[0;34m=\u001b[0m\u001b[0;32mTrue\u001b[0m\u001b[0;34m,\u001b[0m  \u001b[0;31m# factorize sorts\u001b[0m\u001b[0;34m\u001b[0m\u001b[0;34m\u001b[0m\u001b[0m\n\u001b[0m\u001b[1;32m   1480\u001b[0m         )\n\u001b[1;32m   1481\u001b[0m \u001b[0;34m\u001b[0m\u001b[0m\n",
            "\u001b[0;32m/usr/local/lib/python3.6/dist-packages/pandas/core/reshape/merge.py\u001b[0m in \u001b[0;36m__init__\u001b[0;34m(self, left, right, how, on, left_on, right_on, axis, left_index, right_index, sort, suffixes, copy, indicator, validate)\u001b[0m\n\u001b[1;32m    650\u001b[0m             \u001b[0mself\u001b[0m\u001b[0;34m.\u001b[0m\u001b[0mright_join_keys\u001b[0m\u001b[0;34m,\u001b[0m\u001b[0;34m\u001b[0m\u001b[0;34m\u001b[0m\u001b[0m\n\u001b[1;32m    651\u001b[0m             \u001b[0mself\u001b[0m\u001b[0;34m.\u001b[0m\u001b[0mjoin_names\u001b[0m\u001b[0;34m,\u001b[0m\u001b[0;34m\u001b[0m\u001b[0;34m\u001b[0m\u001b[0m\n\u001b[0;32m--> 652\u001b[0;31m         ) = self._get_merge_keys()\n\u001b[0m\u001b[1;32m    653\u001b[0m \u001b[0;34m\u001b[0m\u001b[0m\n\u001b[1;32m    654\u001b[0m         \u001b[0;31m# validate the merge keys dtypes. We may need to coerce\u001b[0m\u001b[0;34m\u001b[0m\u001b[0;34m\u001b[0m\u001b[0;34m\u001b[0m\u001b[0m\n",
            "\u001b[0;32m/usr/local/lib/python3.6/dist-packages/pandas/core/reshape/merge.py\u001b[0m in \u001b[0;36m_get_merge_keys\u001b[0;34m(self)\u001b[0m\n\u001b[1;32m   1656\u001b[0m                         \u001b[0;34mf\"{repr(rk.dtype)}, must be the same type\"\u001b[0m\u001b[0;34m\u001b[0m\u001b[0;34m\u001b[0m\u001b[0m\n\u001b[1;32m   1657\u001b[0m                     )\n\u001b[0;32m-> 1658\u001b[0;31m                 \u001b[0;32mraise\u001b[0m \u001b[0mMergeError\u001b[0m\u001b[0;34m(\u001b[0m\u001b[0mmsg\u001b[0m\u001b[0;34m)\u001b[0m\u001b[0;34m\u001b[0m\u001b[0;34m\u001b[0m\u001b[0m\n\u001b[0m\u001b[1;32m   1659\u001b[0m \u001b[0;34m\u001b[0m\u001b[0m\n\u001b[1;32m   1660\u001b[0m         \u001b[0;31m# validate tolerance; datetime.timedelta or Timedelta if we have a DTI\u001b[0m\u001b[0;34m\u001b[0m\u001b[0;34m\u001b[0m\u001b[0;34m\u001b[0m\u001b[0m\n",
            "\u001b[0;31mMergeError\u001b[0m: incompatible merge keys [0] dtype('int64') and dtype('O'), must be the same type"
          ]
        }
      ]
    },
    {
      "cell_type": "code",
      "metadata": {
        "id": "dYobCqmn4CLL"
      },
      "source": [
        ""
      ],
      "execution_count": null,
      "outputs": []
    }
  ]
}