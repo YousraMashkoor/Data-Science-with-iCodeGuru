{
  "nbformat": 4,
  "nbformat_minor": 0,
  "metadata": {
    "colab": {
      "name": "DA-ch-5.ipynb",
      "provenance": []
    },
    "kernelspec": {
      "name": "python3",
      "display_name": "Python 3"
    }
  },
  "cells": [
    {
      "cell_type": "code",
      "metadata": {
        "id": "4IrlgcY1OzSo"
      },
      "source": [
        "Chapter 5\n",
        "topic 5.1\n",
        "You'll convert data types, apply range constraints to remove future data points,\n",
        " and remove duplicated data points to avoid double-counting."
      ],
      "execution_count": null,
      "outputs": []
    },
    {
      "cell_type": "code",
      "metadata": {
        "colab": {
          "base_uri": "https://localhost:8080/"
        },
        "id": "2uRs15OnO7Gr",
        "outputId": "cde7a266-cc73-49d1-ee75-d8d37a7c0ed7"
      },
      "source": [
        "import pandas as pd\n",
        "import matplotlib.pyplot as plt\n",
        "import numpy as np\n",
        "\n",
        "ride_sharing = pd.read_csv('ride_sharing_new.csv')\n",
        "# Print the information of ride_sharing\n",
        "print(ride_sharing.info())\n",
        "\n",
        "# Print summary statistics of user_type column\n",
        "print(ride_sharing['user_type'].describe())"
      ],
      "execution_count": null,
      "outputs": [
        {
          "output_type": "stream",
          "text": [
            "<class 'pandas.core.frame.DataFrame'>\n",
            "RangeIndex: 25760 entries, 0 to 25759\n",
            "Data columns (total 10 columns):\n",
            " #   Column           Non-Null Count  Dtype \n",
            "---  ------           --------------  ----- \n",
            " 0   Unnamed: 0       25760 non-null  int64 \n",
            " 1   duration         25760 non-null  object\n",
            " 2   station_A_id     25760 non-null  int64 \n",
            " 3   station_A_name   25760 non-null  object\n",
            " 4   station_B_id     25760 non-null  int64 \n",
            " 5   station_B_name   25760 non-null  object\n",
            " 6   bike_id          25760 non-null  int64 \n",
            " 7   user_type        25760 non-null  int64 \n",
            " 8   user_birth_year  25760 non-null  int64 \n",
            " 9   user_gender      25760 non-null  object\n",
            "dtypes: int64(6), object(4)\n",
            "memory usage: 2.0+ MB\n",
            "None\n",
            "count    25760.000000\n",
            "mean         2.008385\n",
            "std          0.704541\n",
            "min          1.000000\n",
            "25%          2.000000\n",
            "50%          2.000000\n",
            "75%          3.000000\n",
            "max          3.000000\n",
            "Name: user_type, dtype: float64\n"
          ],
          "name": "stdout"
        }
      ]
    },
    {
      "cell_type": "code",
      "metadata": {
        "colab": {
          "base_uri": "https://localhost:8080/"
        },
        "id": "lFI6OqlpBwC3",
        "outputId": "27220a3c-6ae2-4f9d-8b58-0fbbefd8148b"
      },
      "source": [
        "print(ride_sharing)"
      ],
      "execution_count": null,
      "outputs": [
        {
          "output_type": "stream",
          "text": [
            "       Unnamed: 0    duration  ...  duration_trim duration_time\n",
            "0               0  12 minutes  ...            12             12\n",
            "1               1  24 minutes  ...            24             24\n",
            "2               2   8 minutes  ...             8              8\n",
            "3               3   4 minutes  ...             4              4\n",
            "4               4  11 minutes  ...            11             11\n",
            "...           ...         ...  ...            ...           ...\n",
            "25755       25755  11 minutes  ...            11             11\n",
            "25756       25756  10 minutes  ...            10             10\n",
            "25757       25757  14 minutes  ...            14             14\n",
            "25758       25758  14 minutes  ...            14             14\n",
            "25759       25759  29 minutes  ...            29             29\n",
            "\n",
            "[25760 rows x 12 columns]\n"
          ],
          "name": "stdout"
        }
      ]
    },
    {
      "cell_type": "code",
      "metadata": {
        "colab": {
          "base_uri": "https://localhost:8080/"
        },
        "id": "fyCxuvgIWnnO",
        "outputId": "73d688bf-1e8e-4a9b-d9da-3554484f5ee2"
      },
      "source": [
        "# Strip duration of minutes\n",
        "ride_sharing['duration_trim'] = ride_sharing['duration'].str.strip('minutes')\n",
        "\n",
        "# Convert duration to integer\n",
        "ride_sharing['duration_time'] = ride_sharing['duration_trim'].astype('int')\n",
        "\n",
        "# Write an assert statement making sure of conversion\n",
        "assert ride_sharing['duration_time'].dtype == 'int'\n",
        "\n",
        "# Print formed columns and calculate average ride duration \n",
        "print(ride_sharing[['duration','duration_trim','duration_time']])\n",
        "print(ride_sharing.duration_time.mean())"
      ],
      "execution_count": null,
      "outputs": [
        {
          "output_type": "stream",
          "text": [
            "         duration duration_trim  duration_time\n",
            "0      12 minutes           12              12\n",
            "1      24 minutes           24              24\n",
            "2       8 minutes            8               8\n",
            "3       4 minutes            4               4\n",
            "4      11 minutes           11              11\n",
            "...           ...           ...            ...\n",
            "25755  11 minutes           11              11\n",
            "25756  10 minutes           10              10\n",
            "25757  14 minutes           14              14\n",
            "25758  14 minutes           14              14\n",
            "25759  29 minutes           29              29\n",
            "\n",
            "[25760 rows x 3 columns]\n",
            "11.389052795031056\n"
          ],
          "name": "stdout"
        }
      ]
    },
    {
      "cell_type": "code",
      "metadata": {
        "id": "r-vZ1JoGAq-W"
      },
      "source": [
        "2020-11-23"
      ],
      "execution_count": null,
      "outputs": []
    },
    {
      "cell_type": "code",
      "metadata": {
        "colab": {
          "base_uri": "https://localhost:8080/"
        },
        "id": "_1uTUpkFcRiO",
        "outputId": "d5bc2f6c-f73b-40cd-f9d6-0b23e4dda6a1"
      },
      "source": [
        "ride_sharing.user_type"
      ],
      "execution_count": null,
      "outputs": [
        {
          "output_type": "execute_result",
          "data": {
            "text/plain": [
              "0        2\n",
              "1        2\n",
              "2        3\n",
              "3        1\n",
              "4        2\n",
              "        ..\n",
              "25755    1\n",
              "25756    2\n",
              "25757    2\n",
              "25758    2\n",
              "25759    3\n",
              "Name: user_type, Length: 25760, dtype: category\n",
              "Categories (3, int64): [1, 2, 3]"
            ]
          },
          "metadata": {
            "tags": []
          },
          "execution_count": 15
        }
      ]
    },
    {
      "cell_type": "code",
      "metadata": {
        "colab": {
          "base_uri": "https://localhost:8080/"
        },
        "id": "b2cFgwlkoLIj",
        "outputId": "f84ff58f-e7ac-49e3-a376-7af4b6e3d367"
      },
      "source": [
        "ride_sharing.info()"
      ],
      "execution_count": null,
      "outputs": [
        {
          "output_type": "stream",
          "text": [
            "<class 'pandas.core.frame.DataFrame'>\n",
            "RangeIndex: 25760 entries, 0 to 25759\n",
            "Data columns (total 12 columns):\n",
            " #   Column           Non-Null Count  Dtype \n",
            "---  ------           --------------  ----- \n",
            " 0   Unnamed: 0       25760 non-null  int64 \n",
            " 1   duration         25760 non-null  object\n",
            " 2   station_A_id     25760 non-null  int64 \n",
            " 3   station_A_name   25760 non-null  object\n",
            " 4   station_B_id     25760 non-null  int64 \n",
            " 5   station_B_name   25760 non-null  object\n",
            " 6   bike_id          25760 non-null  int64 \n",
            " 7   user_type        25760 non-null  int64 \n",
            " 8   user_birth_year  25760 non-null  int64 \n",
            " 9   user_gender      25760 non-null  object\n",
            " 10  duration_trim    25760 non-null  object\n",
            " 11  duration_time    25760 non-null  int64 \n",
            "dtypes: int64(7), object(5)\n",
            "memory usage: 2.4+ MB\n"
          ],
          "name": "stdout"
        }
      ]
    },
    {
      "cell_type": "code",
      "metadata": {
        "colab": {
          "base_uri": "https://localhost:8080/",
          "height": 294
        },
        "id": "LsS9eqqroOPs",
        "outputId": "15b6cfc5-e9e1-4dab-d8dc-3371699723ef"
      },
      "source": [
        "ride_sharing.describe()"
      ],
      "execution_count": null,
      "outputs": [
        {
          "output_type": "execute_result",
          "data": {
            "text/html": [
              "<div>\n",
              "<style scoped>\n",
              "    .dataframe tbody tr th:only-of-type {\n",
              "        vertical-align: middle;\n",
              "    }\n",
              "\n",
              "    .dataframe tbody tr th {\n",
              "        vertical-align: top;\n",
              "    }\n",
              "\n",
              "    .dataframe thead th {\n",
              "        text-align: right;\n",
              "    }\n",
              "</style>\n",
              "<table border=\"1\" class=\"dataframe\">\n",
              "  <thead>\n",
              "    <tr style=\"text-align: right;\">\n",
              "      <th></th>\n",
              "      <th>Unnamed: 0</th>\n",
              "      <th>station_A_id</th>\n",
              "      <th>station_B_id</th>\n",
              "      <th>bike_id</th>\n",
              "      <th>user_type</th>\n",
              "      <th>user_birth_year</th>\n",
              "      <th>duration_time</th>\n",
              "    </tr>\n",
              "  </thead>\n",
              "  <tbody>\n",
              "    <tr>\n",
              "      <th>count</th>\n",
              "      <td>25760.000000</td>\n",
              "      <td>25760.000000</td>\n",
              "      <td>25760.000000</td>\n",
              "      <td>25760.000000</td>\n",
              "      <td>25760.000000</td>\n",
              "      <td>25760.000000</td>\n",
              "      <td>25760.000000</td>\n",
              "    </tr>\n",
              "    <tr>\n",
              "      <th>mean</th>\n",
              "      <td>12879.500000</td>\n",
              "      <td>31.023602</td>\n",
              "      <td>89.558579</td>\n",
              "      <td>4107.621467</td>\n",
              "      <td>2.008385</td>\n",
              "      <td>1983.054969</td>\n",
              "      <td>11.389053</td>\n",
              "    </tr>\n",
              "    <tr>\n",
              "      <th>std</th>\n",
              "      <td>7436.415803</td>\n",
              "      <td>26.409263</td>\n",
              "      <td>105.144103</td>\n",
              "      <td>1576.315767</td>\n",
              "      <td>0.704541</td>\n",
              "      <td>10.010992</td>\n",
              "      <td>23.500516</td>\n",
              "    </tr>\n",
              "    <tr>\n",
              "      <th>min</th>\n",
              "      <td>0.000000</td>\n",
              "      <td>3.000000</td>\n",
              "      <td>3.000000</td>\n",
              "      <td>11.000000</td>\n",
              "      <td>1.000000</td>\n",
              "      <td>1901.000000</td>\n",
              "      <td>1.000000</td>\n",
              "    </tr>\n",
              "    <tr>\n",
              "      <th>25%</th>\n",
              "      <td>6439.750000</td>\n",
              "      <td>15.000000</td>\n",
              "      <td>21.000000</td>\n",
              "      <td>3106.000000</td>\n",
              "      <td>2.000000</td>\n",
              "      <td>1978.000000</td>\n",
              "      <td>6.000000</td>\n",
              "    </tr>\n",
              "    <tr>\n",
              "      <th>50%</th>\n",
              "      <td>12879.500000</td>\n",
              "      <td>21.000000</td>\n",
              "      <td>58.000000</td>\n",
              "      <td>4821.000000</td>\n",
              "      <td>2.000000</td>\n",
              "      <td>1985.000000</td>\n",
              "      <td>9.000000</td>\n",
              "    </tr>\n",
              "    <tr>\n",
              "      <th>75%</th>\n",
              "      <td>19319.250000</td>\n",
              "      <td>67.000000</td>\n",
              "      <td>93.000000</td>\n",
              "      <td>5257.000000</td>\n",
              "      <td>3.000000</td>\n",
              "      <td>1990.000000</td>\n",
              "      <td>13.000000</td>\n",
              "    </tr>\n",
              "    <tr>\n",
              "      <th>max</th>\n",
              "      <td>25759.000000</td>\n",
              "      <td>81.000000</td>\n",
              "      <td>383.000000</td>\n",
              "      <td>6638.000000</td>\n",
              "      <td>3.000000</td>\n",
              "      <td>2001.000000</td>\n",
              "      <td>1372.000000</td>\n",
              "    </tr>\n",
              "  </tbody>\n",
              "</table>\n",
              "</div>"
            ],
            "text/plain": [
              "         Unnamed: 0  station_A_id  ...  user_birth_year  duration_time\n",
              "count  25760.000000  25760.000000  ...     25760.000000   25760.000000\n",
              "mean   12879.500000     31.023602  ...      1983.054969      11.389053\n",
              "std     7436.415803     26.409263  ...        10.010992      23.500516\n",
              "min        0.000000      3.000000  ...      1901.000000       1.000000\n",
              "25%     6439.750000     15.000000  ...      1978.000000       6.000000\n",
              "50%    12879.500000     21.000000  ...      1985.000000       9.000000\n",
              "75%    19319.250000     67.000000  ...      1990.000000      13.000000\n",
              "max    25759.000000     81.000000  ...      2001.000000    1372.000000\n",
              "\n",
              "[8 rows x 7 columns]"
            ]
          },
          "metadata": {
            "tags": []
          },
          "execution_count": 11
        }
      ]
    },
    {
      "cell_type": "code",
      "metadata": {
        "colab": {
          "base_uri": "https://localhost:8080/"
        },
        "id": "saZGcIleYAzK",
        "outputId": "e88f2d1b-f0f4-408a-a988-11b4937e840a"
      },
      "source": [
        "# Convert tire_sizes to integer\n",
        "ride_sharing['user_type'] = ride_sharing['user_type'].astype('int')\n",
        "\n",
        "# Set all values above 27 to 27\n",
        "ride_sharing.loc[ride_sharing['user_type'] > 27, 'user_type'] = 27\n",
        "\n",
        "# Reconvert tire_sizes back to categorical\n",
        "ride_sharing['user_type'] = ride_sharing['user_type'].astype('category')\n",
        "\n",
        "# Print tire size description\n",
        "print(ride_sharing['user_type'].describe())"
      ],
      "execution_count": null,
      "outputs": [
        {
          "output_type": "stream",
          "text": [
            "count     25760\n",
            "unique        3\n",
            "top           2\n",
            "freq      12972\n",
            "Name: user_type, dtype: int64\n"
          ],
          "name": "stdout"
        }
      ]
    },
    {
      "cell_type": "code",
      "metadata": {
        "colab": {
          "base_uri": "https://localhost:8080/"
        },
        "id": "2LZdz5gYZBYn",
        "outputId": "5b2ee150-6f09-44a4-ee4d-cfb83b52f5ac"
      },
      "source": [
        "# Convert ride_date to datetime\n",
        "ride_sharing['user_birth_year'] = pd.to_datetime(ride_sharing['user_birth_year'])\n",
        "\n",
        "import datetime as dt \n",
        "# Save today's date\n",
        "today = dt.date.today()\n",
        "\n",
        "# Set all in the future to today's date\n",
        "#ride_sharing.loc[ride_sharing['user_birth_year'] > today, 'user_birth_year'] = today\n",
        "\n",
        "# Print maximum of ride_dt column\n",
        "print(ride_sharing['user_birth_year'].max())\n",
        "print(today)"
      ],
      "execution_count": null,
      "outputs": [
        {
          "output_type": "stream",
          "text": [
            "1970-01-01 00:00:00.000002001\n",
            "2020-11-23\n"
          ],
          "name": "stdout"
        }
      ]
    },
    {
      "cell_type": "code",
      "metadata": {
        "id": "qi6Rk2bbCMK4"
      },
      "source": [
        "1997 ==== "
      ],
      "execution_count": null,
      "outputs": []
    },
    {
      "cell_type": "code",
      "metadata": {
        "colab": {
          "base_uri": "https://localhost:8080/"
        },
        "id": "kVdbwqw9Zdly",
        "outputId": "b376d0fd-d092-4994-b55a-3e5fefafecca"
      },
      "source": [
        "# Find duplicates\n",
        "duplicates = ride_sharing.duplicated(subset='bike_id', keep=False)\n",
        "\n",
        "# Sort your duplicated rides\n",
        "duplicated_rides = ride_sharing[duplicates].sort_values('bike_id')\n",
        "\n",
        "# Print relevant columns of duplicated_rides\n",
        "print(duplicated_rides[['bike_id','duration','user_birth_year']])"
      ],
      "execution_count": null,
      "outputs": [
        {
          "output_type": "stream",
          "text": [
            "       bike_id    duration               user_birth_year\n",
            "3638        11  12 minutes 1970-01-01 00:00:00.000001988\n",
            "6088        11   5 minutes 1970-01-01 00:00:00.000001985\n",
            "10857       11   4 minutes 1970-01-01 00:00:00.000001987\n",
            "10045       27  13 minutes 1970-01-01 00:00:00.000001989\n",
            "16104       27  10 minutes 1970-01-01 00:00:00.000001970\n",
            "...        ...         ...                           ...\n",
            "8812      6638  10 minutes 1970-01-01 00:00:00.000001986\n",
            "6815      6638   5 minutes 1970-01-01 00:00:00.000001995\n",
            "8456      6638   7 minutes 1970-01-01 00:00:00.000001983\n",
            "8300      6638   6 minutes 1970-01-01 00:00:00.000001962\n",
            "8380      6638   8 minutes 1970-01-01 00:00:00.000001984\n",
            "\n",
            "[25717 rows x 3 columns]\n"
          ],
          "name": "stdout"
        }
      ]
    },
    {
      "cell_type": "code",
      "metadata": {
        "colab": {
          "base_uri": "https://localhost:8080/"
        },
        "id": "Gr8AQj3zq4Ts",
        "outputId": "d6d27633-bdf3-4d67-bfe9-e5332f1e8735"
      },
      "source": [
        "# Drop complete duplicates from ride_sharing\n",
        "ride_dup = ride_sharing.drop_duplicates()\n",
        "\n",
        "# Group by ride_id and compute new statistics\n",
        "ride_unique = ride_dup.groupby('bike_id')\n",
        "\n",
        "# Assert duplicates are processed\n",
        "print(ride_dup)"
      ],
      "execution_count": null,
      "outputs": [
        {
          "output_type": "stream",
          "text": [
            "       Unnamed: 0    duration  ...  duration_trim duration_time\n",
            "0               0  12 minutes  ...            12             12\n",
            "1               1  24 minutes  ...            24             24\n",
            "2               2   8 minutes  ...             8              8\n",
            "3               3   4 minutes  ...             4              4\n",
            "4               4  11 minutes  ...            11             11\n",
            "...           ...         ...  ...            ...           ...\n",
            "25755       25755  11 minutes  ...            11             11\n",
            "25756       25756  10 minutes  ...            10             10\n",
            "25757       25757  14 minutes  ...            14             14\n",
            "25758       25758  14 minutes  ...            14             14\n",
            "25759       25759  29 minutes  ...            29             29\n",
            "\n",
            "[25760 rows x 12 columns]\n"
          ],
          "name": "stdout"
        }
      ]
    },
    {
      "cell_type": "code",
      "metadata": {
        "id": "SZMQn8XnZyJX"
      },
      "source": [
        "Chapter 5\n",
        "topic 5.2\n",
        "you’ll learn how to fix whitespace and capitalization inconsistencies in \n",
        "category labels, collapse multiple categories into one, and reformat strings \n",
        "for consistency."
      ],
      "execution_count": null,
      "outputs": []
    },
    {
      "cell_type": "code",
      "metadata": {
        "id": "B5KKOFS_MsoG"
      },
      "source": [
        "import pandas as pd\n",
        "import matplotlib.pyplot as plt\n",
        "import numpy as np\n",
        "\n",
        "airlines = pd.read_csv('airlines_final.csv')"
      ],
      "execution_count": null,
      "outputs": []
    },
    {
      "cell_type": "code",
      "metadata": {
        "colab": {
          "base_uri": "https://localhost:8080/"
        },
        "id": "JHAY27x0iocz",
        "outputId": "45adad60-d519-40f3-c1ea-7869047cc0a0"
      },
      "source": [
        "# Print categories DataFrame\n",
        "print(airlines.head())"
      ],
      "execution_count": null,
      "outputs": [
        {
          "output_type": "stream",
          "text": [
            "   Unnamed: 0    id  ...         safety        satisfaction\n",
            "0           0  1351  ...        Neutral      Very satisfied\n",
            "1           1   373  ...      Very safe      Very satisfied\n",
            "2           2  2820  ...  Somewhat safe             Neutral\n",
            "3           3  1157  ...      Very safe  Somewhat satsified\n",
            "4           4  2992  ...      Very safe  Somewhat satsified\n",
            "\n",
            "[5 rows x 13 columns]\n"
          ],
          "name": "stdout"
        }
      ]
    },
    {
      "cell_type": "code",
      "metadata": {
        "colab": {
          "base_uri": "https://localhost:8080/"
        },
        "id": "lQaml1Fvk0az",
        "outputId": "5ccdeaaf-9ab6-42d2-9e31-e7e0d736947c"
      },
      "source": [
        "airlines.info()"
      ],
      "execution_count": null,
      "outputs": [
        {
          "output_type": "stream",
          "text": [
            "<class 'pandas.core.frame.DataFrame'>\n",
            "RangeIndex: 2477 entries, 0 to 2476\n",
            "Data columns (total 15 columns):\n",
            " #   Column         Non-Null Count  Dtype   \n",
            "---  ------         --------------  -----   \n",
            " 0   Unnamed: 0     2477 non-null   int64   \n",
            " 1   id             2477 non-null   int64   \n",
            " 2   day            2477 non-null   object  \n",
            " 3   airline        2477 non-null   object  \n",
            " 4   destination    2477 non-null   object  \n",
            " 5   dest_region    2477 non-null   object  \n",
            " 6   dest_size      2477 non-null   object  \n",
            " 7   boarding_area  2477 non-null   object  \n",
            " 8   dept_time      2477 non-null   object  \n",
            " 9   wait_min       2477 non-null   float64 \n",
            " 10  cleanliness    2477 non-null   object  \n",
            " 11  safety         2477 non-null   object  \n",
            " 12  satisfaction   2477 non-null   object  \n",
            " 13  wait_type      2477 non-null   category\n",
            " 14  day_week       2477 non-null   object  \n",
            "dtypes: category(1), float64(1), int64(2), object(11)\n",
            "memory usage: 273.6+ KB\n"
          ],
          "name": "stdout"
        }
      ]
    },
    {
      "cell_type": "code",
      "metadata": {
        "colab": {
          "base_uri": "https://localhost:8080/"
        },
        "id": "4lKKMHWfjl0o",
        "outputId": "87666194-45d5-46e0-c8ec-1ec001b9cefe"
      },
      "source": [
        "airlines.columns"
      ],
      "execution_count": null,
      "outputs": [
        {
          "output_type": "execute_result",
          "data": {
            "text/plain": [
              "Index(['Unnamed: 0', 'id', 'day', 'airline', 'destination', 'dest_region',\n",
              "       'dest_size', 'boarding_area', 'dept_time', 'wait_min', 'cleanliness',\n",
              "       'safety', 'satisfaction'],\n",
              "      dtype='object')"
            ]
          },
          "metadata": {
            "tags": []
          },
          "execution_count": 8
        }
      ]
    },
    {
      "cell_type": "code",
      "metadata": {
        "colab": {
          "base_uri": "https://localhost:8080/"
        },
        "id": "9D3nEdESkQWj",
        "outputId": "55c3cf01-7815-4eac-f19c-a009a78351ee"
      },
      "source": [
        "airlines.id"
      ],
      "execution_count": null,
      "outputs": [
        {
          "output_type": "execute_result",
          "data": {
            "text/plain": [
              "0       1351\n",
              "1        373\n",
              "2       2820\n",
              "3       1157\n",
              "4       2992\n",
              "        ... \n",
              "2472    1475\n",
              "2473    2222\n",
              "2474    2684\n",
              "2475    2549\n",
              "2476    2162\n",
              "Name: id, Length: 2477, dtype: int64"
            ]
          },
          "metadata": {
            "tags": []
          },
          "execution_count": 14
        }
      ]
    },
    {
      "cell_type": "code",
      "metadata": {
        "colab": {
          "base_uri": "https://localhost:8080/"
        },
        "id": "VZJwbZpuktJ_",
        "outputId": "914d8136-d7f2-4474-8350-f430ecbe4366"
      },
      "source": [
        "airlines.satisfaction"
      ],
      "execution_count": null,
      "outputs": [
        {
          "output_type": "execute_result",
          "data": {
            "text/plain": [
              "0           Very satisfied\n",
              "1           Very satisfied\n",
              "2                  Neutral\n",
              "3       Somewhat satsified\n",
              "4       Somewhat satsified\n",
              "               ...        \n",
              "2472    Somewhat satsified\n",
              "2473        Very satisfied\n",
              "2474        Very satisfied\n",
              "2475        Very satisfied\n",
              "2476    Somewhat satsified\n",
              "Name: satisfaction, Length: 2477, dtype: object"
            ]
          },
          "metadata": {
            "tags": []
          },
          "execution_count": 16
        }
      ]
    },
    {
      "cell_type": "code",
      "metadata": {
        "colab": {
          "base_uri": "https://localhost:8080/"
        },
        "id": "LfCmlo8M-mqa",
        "outputId": "7fc8c79c-65d1-441a-a912-458e36d4a65c"
      },
      "source": [
        "# Print unique values of survey columns in airlines\n",
        "print('Cleanliness: ', airlines['cleanliness'].unique(), \"\\n\")\n",
        "print('Safety: ', airlines['safety'].unique(), \"\\n\")\n",
        "print('Satisfaction: ', airlines['satisfaction'].unique(), \"\\n\")"
      ],
      "execution_count": null,
      "outputs": [
        {
          "output_type": "stream",
          "text": [
            "Cleanliness:  ['Clean' 'Average' 'Somewhat clean' 'Somewhat dirty' 'Dirty'] \n",
            "\n",
            "Safety:  ['Neutral' 'Very safe' 'Somewhat safe' 'Very unsafe' 'Somewhat unsafe'] \n",
            "\n",
            "Satisfaction:  ['Very satisfied' 'Neutral' 'Somewhat satsified' 'Somewhat unsatisfied'\n",
            " 'Very unsatisfied'] \n",
            "\n"
          ],
          "name": "stdout"
        }
      ]
    },
    {
      "cell_type": "code",
      "metadata": {
        "colab": {
          "base_uri": "https://localhost:8080/"
        },
        "id": "vpO8kJmFDZh6",
        "outputId": "98fa028e-a2b1-4c8a-f4d4-308d486c201e"
      },
      "source": [
        "# Print unique values of both columns\n",
        "print(airlines['dest_region'].unique())\n",
        "print(airlines['dest_size'].unique())"
      ],
      "execution_count": null,
      "outputs": [
        {
          "output_type": "stream",
          "text": [
            "['Asia' 'Canada/Mexico' 'West US' 'East US' 'Midwest US' 'EAST US'\n",
            " 'Middle East' 'Europe' 'eur' 'Central/South America'\n",
            " 'Australia/New Zealand' 'middle east']\n",
            "['Hub' 'Small' '    Hub' 'Medium' 'Large' 'Hub     ' '    Small'\n",
            " 'Medium     ' '    Medium' 'Small     ' '    Large' 'Large     ']\n"
          ],
          "name": "stdout"
        }
      ]
    },
    {
      "cell_type": "code",
      "metadata": {
        "id": "VkB7nFekDaZ4"
      },
      "source": [
        "# Create ranges for categories\n",
        "label_ranges = [0, 60, 180, np.inf]\n",
        "label_names = ['short', 'medium', 'long']\n",
        "\n",
        "# Create wait_type column\n",
        "airlines['wait_type'] = pd.cut(airlines['wait_min'], bins = label_ranges, \n",
        "                               labels = label_names)\n",
        "\n",
        "# Create mappings and replace\n",
        "mappings = {'Monday':'weekday', 'Tuesday':'weekday', 'Wednesday': 'weekday', \n",
        "            'Thursday': 'weekday', 'Friday': 'weekday', \n",
        "            'Saturday': 'weekend', 'Sunday': 'weekend'}\n",
        "\n",
        "airlines['day_week'] = airlines['day'].replace(mappings)"
      ],
      "execution_count": null,
      "outputs": []
    },
    {
      "cell_type": "code",
      "metadata": {
        "id": "Bv4ykhoNDkmC"
      },
      "source": [
        "# Replace \"Dr.\" with empty string \"\"\n",
        "airlines['day_week'] = airlines['day_week'].str.replace(\"Dr.\",\"\")\n",
        "\n",
        "# Replace \"Mr.\" with empty string \"\"\n",
        "airlines['day_week'] = airlines['day_week'].str.replace(\"Mr.\",\"\")\n",
        "\n",
        "# Replace \"Miss\" with empty string \"\"\n",
        "airlines['day_week'] = airlines['day_week'].str.replace(\"Miss\",\"\")\n",
        "\n",
        "# Replace \"Ms.\" with empty string \"\"\n",
        "airlines['day_week'] = airlines['day_week'].str.replace(\"Ms.\",\"\")\n",
        "\n",
        "# Assert that full_name has no honorifics\n",
        "assert airlines['day_week'].str.contains('Ms.|Mr.|Miss|Dr.').any() == False"
      ],
      "execution_count": null,
      "outputs": []
    },
    {
      "cell_type": "code",
      "metadata": {
        "colab": {
          "base_uri": "https://localhost:8080/",
          "height": 235
        },
        "id": "DNM2QCnjDobQ",
        "outputId": "8544b10c-68d4-4bd5-a1a5-341fd36c50c2"
      },
      "source": [
        "# Store length of each row in survey_response column\n",
        "resp_length = airlines['day_week'].str.len()\n",
        "\n",
        "# Find rows in airlines where resp_length > 40\n",
        "airlines_survey = airlines[resp_length > 40]\n",
        "\n",
        "# Assert minimum survey_response length is > 40\n",
        "assert airlines_survey['day_week'].str.len().min() > 40\n",
        "\n",
        "# Print new survey_response column\n",
        "print(airlines_survey['day_week'])"
      ],
      "execution_count": null,
      "outputs": [
        {
          "output_type": "error",
          "ename": "AssertionError",
          "evalue": "ignored",
          "traceback": [
            "\u001b[0;31m---------------------------------------------------------------------------\u001b[0m",
            "\u001b[0;31mAssertionError\u001b[0m                            Traceback (most recent call last)",
            "\u001b[0;32m<ipython-input-23-635e9e165f9f>\u001b[0m in \u001b[0;36m<module>\u001b[0;34m()\u001b[0m\n\u001b[1;32m      6\u001b[0m \u001b[0;34m\u001b[0m\u001b[0m\n\u001b[1;32m      7\u001b[0m \u001b[0;31m# Assert minimum survey_response length is > 40\u001b[0m\u001b[0;34m\u001b[0m\u001b[0;34m\u001b[0m\u001b[0;34m\u001b[0m\u001b[0m\n\u001b[0;32m----> 8\u001b[0;31m \u001b[0;32massert\u001b[0m \u001b[0mairlines_survey\u001b[0m\u001b[0;34m[\u001b[0m\u001b[0;34m'day_week'\u001b[0m\u001b[0;34m]\u001b[0m\u001b[0;34m.\u001b[0m\u001b[0mstr\u001b[0m\u001b[0;34m.\u001b[0m\u001b[0mlen\u001b[0m\u001b[0;34m(\u001b[0m\u001b[0;34m)\u001b[0m\u001b[0;34m.\u001b[0m\u001b[0mmin\u001b[0m\u001b[0;34m(\u001b[0m\u001b[0;34m)\u001b[0m \u001b[0;34m>\u001b[0m \u001b[0;36m40\u001b[0m\u001b[0;34m\u001b[0m\u001b[0;34m\u001b[0m\u001b[0m\n\u001b[0m\u001b[1;32m      9\u001b[0m \u001b[0;34m\u001b[0m\u001b[0m\n\u001b[1;32m     10\u001b[0m \u001b[0;31m# Print new survey_response column\u001b[0m\u001b[0;34m\u001b[0m\u001b[0;34m\u001b[0m\u001b[0;34m\u001b[0m\u001b[0m\n",
            "\u001b[0;31mAssertionError\u001b[0m: "
          ]
        }
      ]
    },
    {
      "cell_type": "code",
      "metadata": {
        "id": "WlMQCuMJj_xg"
      },
      "source": [
        ""
      ],
      "execution_count": null,
      "outputs": []
    }
  ]
}