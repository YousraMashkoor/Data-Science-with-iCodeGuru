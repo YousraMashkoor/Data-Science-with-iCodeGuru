{
  "nbformat": 4,
  "nbformat_minor": 0,
  "metadata": {
    "colab": {
      "name": "DA-ch-5.ipynb",
      "provenance": []
    },
    "kernelspec": {
      "name": "python3",
      "display_name": "Python 3"
    }
  },
  "cells": [
    {
      "cell_type": "code",
      "metadata": {
        "id": "4IrlgcY1OzSo"
      },
      "source": [
        "Chapter 5\n",
        "topic 5.1\n",
        "You'll convert data types, apply range constraints to remove future data points,\n",
        " and remove duplicated data points to avoid double-counting."
      ],
      "execution_count": null,
      "outputs": []
    },
    {
      "cell_type": "code",
      "metadata": {
        "colab": {
          "base_uri": "https://localhost:8080/"
        },
        "id": "2uRs15OnO7Gr",
        "outputId": "e76616a5-195a-44dd-96ff-8f1cd818e8b3"
      },
      "source": [
        "import pandas as pd\n",
        "import matplotlib.pyplot as plt\n",
        "import numpy as np\n",
        "\n",
        "ride_sharing = pd.read_csv('ride_sharing_new.csv')\n",
        "# Print the information of ride_sharing\n",
        "print(ride_sharing.info())\n",
        "\n",
        "# Print summary statistics of user_type column\n",
        "print(ride_sharing['user_type'].describe())"
      ],
      "execution_count": null,
      "outputs": [
        {
          "output_type": "stream",
          "text": [
            "<class 'pandas.core.frame.DataFrame'>\n",
            "RangeIndex: 25760 entries, 0 to 25759\n",
            "Data columns (total 10 columns):\n",
            " #   Column           Non-Null Count  Dtype \n",
            "---  ------           --------------  ----- \n",
            " 0   Unnamed: 0       25760 non-null  int64 \n",
            " 1   duration         25760 non-null  object\n",
            " 2   station_A_id     25760 non-null  int64 \n",
            " 3   station_A_name   25760 non-null  object\n",
            " 4   station_B_id     25760 non-null  int64 \n",
            " 5   station_B_name   25760 non-null  object\n",
            " 6   bike_id          25760 non-null  int64 \n",
            " 7   user_type        25760 non-null  int64 \n",
            " 8   user_birth_year  25760 non-null  int64 \n",
            " 9   user_gender      25760 non-null  object\n",
            "dtypes: int64(6), object(4)\n",
            "memory usage: 2.0+ MB\n",
            "None\n",
            "count    25760.000000\n",
            "mean         2.008385\n",
            "std          0.704541\n",
            "min          1.000000\n",
            "25%          2.000000\n",
            "50%          2.000000\n",
            "75%          3.000000\n",
            "max          3.000000\n",
            "Name: user_type, dtype: float64\n"
          ],
          "name": "stdout"
        }
      ]
    },
    {
      "cell_type": "code",
      "metadata": {
        "colab": {
          "base_uri": "https://localhost:8080/"
        },
        "id": "fyCxuvgIWnnO",
        "outputId": "b7726a19-d3b5-4293-f90c-f43de0e9bdd8"
      },
      "source": [
        "# Strip duration of minutes\n",
        "ride_sharing['duration_trim'] = ride_sharing['duration'].str.strip('minutes')\n",
        "\n",
        "# Convert duration to integer\n",
        "ride_sharing['duration_time'] = ride_sharing['duration_trim'].astype('int')\n",
        "\n",
        "# Write an assert statement making sure of conversion\n",
        "assert ride_sharing['duration_time'].dtype == 'int'\n",
        "\n",
        "# Print formed columns and calculate average ride duration \n",
        "print(ride_sharing[['duration','duration_trim','duration_time']])\n",
        "print(ride_sharing.duration_time.mean())"
      ],
      "execution_count": null,
      "outputs": [
        {
          "output_type": "stream",
          "text": [
            "         duration duration_trim  duration_time\n",
            "0      12 minutes           12              12\n",
            "1      24 minutes           24              24\n",
            "2       8 minutes            8               8\n",
            "3       4 minutes            4               4\n",
            "4      11 minutes           11              11\n",
            "...           ...           ...            ...\n",
            "25755  11 minutes           11              11\n",
            "25756  10 minutes           10              10\n",
            "25757  14 minutes           14              14\n",
            "25758  14 minutes           14              14\n",
            "25759  29 minutes           29              29\n",
            "\n",
            "[25760 rows x 3 columns]\n",
            "11.389052795031056\n"
          ],
          "name": "stdout"
        }
      ]
    },
    {
      "cell_type": "code",
      "metadata": {
        "colab": {
          "base_uri": "https://localhost:8080/"
        },
        "id": "_1uTUpkFcRiO",
        "outputId": "881bf56a-75b4-49b6-93ae-1658e05815a0"
      },
      "source": [
        "ride_sharing.columns"
      ],
      "execution_count": null,
      "outputs": [
        {
          "output_type": "execute_result",
          "data": {
            "text/plain": [
              "Index(['Unnamed: 0', 'duration', 'station_A_id', 'station_A_name',\n",
              "       'station_B_id', 'station_B_name', 'bike_id', 'user_type',\n",
              "       'user_birth_year', 'user_gender', 'duration_trim', 'duration_time'],\n",
              "      dtype='object')"
            ]
          },
          "metadata": {
            "tags": []
          },
          "execution_count": 14
        }
      ]
    },
    {
      "cell_type": "code",
      "metadata": {
        "colab": {
          "base_uri": "https://localhost:8080/"
        },
        "id": "b2cFgwlkoLIj",
        "outputId": "f34f0381-2456-4210-cb8b-6224c3440063"
      },
      "source": [
        "ride_sharing.info()"
      ],
      "execution_count": null,
      "outputs": [
        {
          "output_type": "stream",
          "text": [
            "<class 'pandas.core.frame.DataFrame'>\n",
            "RangeIndex: 25760 entries, 0 to 25759\n",
            "Data columns (total 12 columns):\n",
            " #   Column           Non-Null Count  Dtype \n",
            "---  ------           --------------  ----- \n",
            " 0   Unnamed: 0       25760 non-null  int64 \n",
            " 1   duration         25760 non-null  object\n",
            " 2   station_A_id     25760 non-null  int64 \n",
            " 3   station_A_name   25760 non-null  object\n",
            " 4   station_B_id     25760 non-null  int64 \n",
            " 5   station_B_name   25760 non-null  object\n",
            " 6   bike_id          25760 non-null  int64 \n",
            " 7   user_type        25760 non-null  int64 \n",
            " 8   user_birth_year  25760 non-null  int64 \n",
            " 9   user_gender      25760 non-null  object\n",
            " 10  duration_trim    25760 non-null  object\n",
            " 11  duration_time    25760 non-null  int64 \n",
            "dtypes: int64(7), object(5)\n",
            "memory usage: 2.4+ MB\n"
          ],
          "name": "stdout"
        }
      ]
    },
    {
      "cell_type": "code",
      "metadata": {
        "colab": {
          "base_uri": "https://localhost:8080/",
          "height": 294
        },
        "id": "LsS9eqqroOPs",
        "outputId": "5468909e-9ed7-4967-840b-7e35be236c8a"
      },
      "source": [
        "ride_sharing.describe()"
      ],
      "execution_count": null,
      "outputs": [
        {
          "output_type": "execute_result",
          "data": {
            "text/html": [
              "<div>\n",
              "<style scoped>\n",
              "    .dataframe tbody tr th:only-of-type {\n",
              "        vertical-align: middle;\n",
              "    }\n",
              "\n",
              "    .dataframe tbody tr th {\n",
              "        vertical-align: top;\n",
              "    }\n",
              "\n",
              "    .dataframe thead th {\n",
              "        text-align: right;\n",
              "    }\n",
              "</style>\n",
              "<table border=\"1\" class=\"dataframe\">\n",
              "  <thead>\n",
              "    <tr style=\"text-align: right;\">\n",
              "      <th></th>\n",
              "      <th>Unnamed: 0</th>\n",
              "      <th>station_A_id</th>\n",
              "      <th>station_B_id</th>\n",
              "      <th>bike_id</th>\n",
              "      <th>user_type</th>\n",
              "      <th>user_birth_year</th>\n",
              "      <th>duration_time</th>\n",
              "    </tr>\n",
              "  </thead>\n",
              "  <tbody>\n",
              "    <tr>\n",
              "      <th>count</th>\n",
              "      <td>25760.000000</td>\n",
              "      <td>25760.000000</td>\n",
              "      <td>25760.000000</td>\n",
              "      <td>25760.000000</td>\n",
              "      <td>25760.000000</td>\n",
              "      <td>25760.000000</td>\n",
              "      <td>25760.000000</td>\n",
              "    </tr>\n",
              "    <tr>\n",
              "      <th>mean</th>\n",
              "      <td>12879.500000</td>\n",
              "      <td>31.023602</td>\n",
              "      <td>89.558579</td>\n",
              "      <td>4107.621467</td>\n",
              "      <td>2.008385</td>\n",
              "      <td>1983.054969</td>\n",
              "      <td>11.389053</td>\n",
              "    </tr>\n",
              "    <tr>\n",
              "      <th>std</th>\n",
              "      <td>7436.415803</td>\n",
              "      <td>26.409263</td>\n",
              "      <td>105.144103</td>\n",
              "      <td>1576.315767</td>\n",
              "      <td>0.704541</td>\n",
              "      <td>10.010992</td>\n",
              "      <td>23.500516</td>\n",
              "    </tr>\n",
              "    <tr>\n",
              "      <th>min</th>\n",
              "      <td>0.000000</td>\n",
              "      <td>3.000000</td>\n",
              "      <td>3.000000</td>\n",
              "      <td>11.000000</td>\n",
              "      <td>1.000000</td>\n",
              "      <td>1901.000000</td>\n",
              "      <td>1.000000</td>\n",
              "    </tr>\n",
              "    <tr>\n",
              "      <th>25%</th>\n",
              "      <td>6439.750000</td>\n",
              "      <td>15.000000</td>\n",
              "      <td>21.000000</td>\n",
              "      <td>3106.000000</td>\n",
              "      <td>2.000000</td>\n",
              "      <td>1978.000000</td>\n",
              "      <td>6.000000</td>\n",
              "    </tr>\n",
              "    <tr>\n",
              "      <th>50%</th>\n",
              "      <td>12879.500000</td>\n",
              "      <td>21.000000</td>\n",
              "      <td>58.000000</td>\n",
              "      <td>4821.000000</td>\n",
              "      <td>2.000000</td>\n",
              "      <td>1985.000000</td>\n",
              "      <td>9.000000</td>\n",
              "    </tr>\n",
              "    <tr>\n",
              "      <th>75%</th>\n",
              "      <td>19319.250000</td>\n",
              "      <td>67.000000</td>\n",
              "      <td>93.000000</td>\n",
              "      <td>5257.000000</td>\n",
              "      <td>3.000000</td>\n",
              "      <td>1990.000000</td>\n",
              "      <td>13.000000</td>\n",
              "    </tr>\n",
              "    <tr>\n",
              "      <th>max</th>\n",
              "      <td>25759.000000</td>\n",
              "      <td>81.000000</td>\n",
              "      <td>383.000000</td>\n",
              "      <td>6638.000000</td>\n",
              "      <td>3.000000</td>\n",
              "      <td>2001.000000</td>\n",
              "      <td>1372.000000</td>\n",
              "    </tr>\n",
              "  </tbody>\n",
              "</table>\n",
              "</div>"
            ],
            "text/plain": [
              "         Unnamed: 0  station_A_id  ...  user_birth_year  duration_time\n",
              "count  25760.000000  25760.000000  ...     25760.000000   25760.000000\n",
              "mean   12879.500000     31.023602  ...      1983.054969      11.389053\n",
              "std     7436.415803     26.409263  ...        10.010992      23.500516\n",
              "min        0.000000      3.000000  ...      1901.000000       1.000000\n",
              "25%     6439.750000     15.000000  ...      1978.000000       6.000000\n",
              "50%    12879.500000     21.000000  ...      1985.000000       9.000000\n",
              "75%    19319.250000     67.000000  ...      1990.000000      13.000000\n",
              "max    25759.000000     81.000000  ...      2001.000000    1372.000000\n",
              "\n",
              "[8 rows x 7 columns]"
            ]
          },
          "metadata": {
            "tags": []
          },
          "execution_count": 24
        }
      ]
    },
    {
      "cell_type": "code",
      "metadata": {
        "colab": {
          "base_uri": "https://localhost:8080/"
        },
        "id": "saZGcIleYAzK",
        "outputId": "8f1c21d4-1d36-4c2a-bac2-fdae6e9acde5"
      },
      "source": [
        "# Convert tire_sizes to integer\n",
        "ride_sharing['user_type'] = ride_sharing['user_type'].astype('int')\n",
        "\n",
        "# Set all values above 27 to 27\n",
        "ride_sharing.loc[ride_sharing['user_type'] > 27, 'user_type'] = 27\n",
        "\n",
        "# Reconvert tire_sizes back to categorical\n",
        "ride_sharing['user_type'] = ride_sharing['user_type'].astype('category')\n",
        "\n",
        "# Print tire size description\n",
        "print(ride_sharing['user_type'].describe())"
      ],
      "execution_count": null,
      "outputs": [
        {
          "output_type": "stream",
          "text": [
            "count     25760\n",
            "unique        3\n",
            "top           2\n",
            "freq      12972\n",
            "Name: user_type, dtype: int64\n"
          ],
          "name": "stdout"
        }
      ]
    },
    {
      "cell_type": "code",
      "metadata": {
        "colab": {
          "base_uri": "https://localhost:8080/"
        },
        "id": "2LZdz5gYZBYn",
        "outputId": "f11ebdb2-a79d-417c-abae-d5c5e0055b9d"
      },
      "source": [
        "# Convert ride_date to datetime\n",
        "ride_sharing['user_birth_year'] = pd.to_datetime(ride_sharing['user_birth_year'])\n",
        "\n",
        "import datetime as dt \n",
        "# Save today's date\n",
        "today = dt.date.today()\n",
        "\n",
        "# Set all in the future to today's date\n",
        "#ride_sharing.loc[ride_sharing['user_birth_year'] > today, 'user_birth_year'] = today\n",
        "\n",
        "# Print maximum of ride_dt column\n",
        "print(ride_sharing['user_birth_year'].max())\n",
        "print(today)"
      ],
      "execution_count": null,
      "outputs": [
        {
          "output_type": "stream",
          "text": [
            "1970-01-01 00:00:00.000002001\n",
            "2020-11-23\n"
          ],
          "name": "stdout"
        }
      ]
    },
    {
      "cell_type": "code",
      "metadata": {
        "colab": {
          "base_uri": "https://localhost:8080/"
        },
        "id": "kVdbwqw9Zdly",
        "outputId": "b376d0fd-d092-4994-b55a-3e5fefafecca"
      },
      "source": [
        "# Find duplicates\n",
        "duplicates = ride_sharing.duplicated(subset='bike_id', keep=False)\n",
        "\n",
        "# Sort your duplicated rides\n",
        "duplicated_rides = ride_sharing[duplicates].sort_values('bike_id')\n",
        "\n",
        "# Print relevant columns of duplicated_rides\n",
        "print(duplicated_rides[['bike_id','duration','user_birth_year']])"
      ],
      "execution_count": null,
      "outputs": [
        {
          "output_type": "stream",
          "text": [
            "       bike_id    duration               user_birth_year\n",
            "3638        11  12 minutes 1970-01-01 00:00:00.000001988\n",
            "6088        11   5 minutes 1970-01-01 00:00:00.000001985\n",
            "10857       11   4 minutes 1970-01-01 00:00:00.000001987\n",
            "10045       27  13 minutes 1970-01-01 00:00:00.000001989\n",
            "16104       27  10 minutes 1970-01-01 00:00:00.000001970\n",
            "...        ...         ...                           ...\n",
            "8812      6638  10 minutes 1970-01-01 00:00:00.000001986\n",
            "6815      6638   5 minutes 1970-01-01 00:00:00.000001995\n",
            "8456      6638   7 minutes 1970-01-01 00:00:00.000001983\n",
            "8300      6638   6 minutes 1970-01-01 00:00:00.000001962\n",
            "8380      6638   8 minutes 1970-01-01 00:00:00.000001984\n",
            "\n",
            "[25717 rows x 3 columns]\n"
          ],
          "name": "stdout"
        }
      ]
    },
    {
      "cell_type": "code",
      "metadata": {
        "colab": {
          "base_uri": "https://localhost:8080/"
        },
        "id": "Gr8AQj3zq4Ts",
        "outputId": "d6d27633-bdf3-4d67-bfe9-e5332f1e8735"
      },
      "source": [
        "# Drop complete duplicates from ride_sharing\n",
        "ride_dup = ride_sharing.drop_duplicates()\n",
        "\n",
        "# Group by ride_id and compute new statistics\n",
        "ride_unique = ride_dup.groupby('bike_id')\n",
        "\n",
        "# Assert duplicates are processed\n",
        "print(ride_dup)"
      ],
      "execution_count": null,
      "outputs": [
        {
          "output_type": "stream",
          "text": [
            "       Unnamed: 0    duration  ...  duration_trim duration_time\n",
            "0               0  12 minutes  ...            12             12\n",
            "1               1  24 minutes  ...            24             24\n",
            "2               2   8 minutes  ...             8              8\n",
            "3               3   4 minutes  ...             4              4\n",
            "4               4  11 minutes  ...            11             11\n",
            "...           ...         ...  ...            ...           ...\n",
            "25755       25755  11 minutes  ...            11             11\n",
            "25756       25756  10 minutes  ...            10             10\n",
            "25757       25757  14 minutes  ...            14             14\n",
            "25758       25758  14 minutes  ...            14             14\n",
            "25759       25759  29 minutes  ...            29             29\n",
            "\n",
            "[25760 rows x 12 columns]\n"
          ],
          "name": "stdout"
        }
      ]
    },
    {
      "cell_type": "code",
      "metadata": {
        "id": "SZMQn8XnZyJX"
      },
      "source": [
        ""
      ],
      "execution_count": null,
      "outputs": []
    }
  ]
}