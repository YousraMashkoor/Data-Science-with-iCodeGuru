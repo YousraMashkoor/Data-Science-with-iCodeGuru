{
  "nbformat": 4,
  "nbformat_minor": 0,
  "metadata": {
    "colab": {
      "name": "DA-ch-1.ipynb",
      "provenance": []
    },
    "kernelspec": {
      "name": "python3",
      "display_name": "Python 3"
    }
  },
  "cells": [
    {
      "cell_type": "code",
      "metadata": {
        "id": "BGBQz4lqImHi"
      },
      "source": [
        "#Chapter-1: Data Manipulation with pandas\n",
        "\n",
        "# topic 1.1\n",
        "\n",
        "import pandas as pd\n",
        "import matplotlib.pyplot as plt\n",
        "import numpy as np"
      ],
      "execution_count": null,
      "outputs": []
    },
    {
      "cell_type": "code",
      "metadata": {
        "id": "2EUEVbQYJAjl",
        "outputId": "ebf559a5-7292-4a44-8405-ffeca1f3b00e",
        "colab": {
          "base_uri": "https://localhost:8080/",
          "height": 503
        }
      },
      "source": [
        "#Inspecting a DataFrame\n",
        "\n",
        "import pandas as pd\n",
        "data = pd.read_csv('Data1.csv')\n",
        "\n",
        "# Print the head of the Data1\n",
        "print(data.head())\n",
        "\n",
        "# Print information about Data1\n",
        "print(data.info())\n",
        "\n",
        "# Print the shape of Data1\n",
        "print(data.shape)\n",
        "\n",
        "# Print a description of Data1\n",
        "print(data.describe())"
      ],
      "execution_count": null,
      "outputs": [
        {
          "output_type": "stream",
          "text": [
            "   Country  cpc  drive_right Purchased\n",
            "0   France   44         True        No\n",
            "1    Spain   27        False       Yes\n",
            "2  Germany   30         True        No\n",
            "3    Spain   38        False        No\n",
            "4  Germany   40         True       Yes\n",
            "<class 'pandas.core.frame.DataFrame'>\n",
            "RangeIndex: 10 entries, 0 to 9\n",
            "Data columns (total 4 columns):\n",
            " #   Column       Non-Null Count  Dtype \n",
            "---  ------       --------------  ----- \n",
            " 0   Country      10 non-null     object\n",
            " 1   cpc          10 non-null     int64 \n",
            " 2   drive_right  10 non-null     bool  \n",
            " 3   Purchased    10 non-null     object\n",
            "dtypes: bool(1), int64(1), object(2)\n",
            "memory usage: 378.0+ bytes\n",
            "None\n",
            "(10, 4)\n",
            "             cpc\n",
            "count  10.000000\n",
            "mean   40.100000\n",
            "std     8.372574\n",
            "min    27.000000\n",
            "25%    35.500000\n",
            "50%    39.000000\n",
            "75%    47.000000\n",
            "max    52.000000\n"
          ],
          "name": "stdout"
        }
      ]
    },
    {
      "cell_type": "code",
      "metadata": {
        "id": "NGGkwA2tJVgg",
        "outputId": "e2ae883c-d878-4309-9d3d-4404641f28cc",
        "colab": {
          "base_uri": "https://localhost:8080/",
          "height": 225
        }
      },
      "source": [
        "# Import pandas using the alias pd\n",
        "import pandas as pd\n",
        "\n",
        "# Print the values of Data1\n",
        "print(data.values)\n",
        "\n",
        "# Print the column index of Data1\n",
        "print(data.columns)\n",
        "\n",
        "# Print the row index of Data1\n",
        "print(data.index)"
      ],
      "execution_count": null,
      "outputs": [
        {
          "output_type": "stream",
          "text": [
            "[['France' 44 True 'No']\n",
            " ['Spain' 27 False 'Yes']\n",
            " ['Germany' 30 True 'No']\n",
            " ['Spain' 38 False 'No']\n",
            " ['Germany' 40 True 'Yes']\n",
            " ['France' 35 False 'Yes']\n",
            " ['Spain' 52 True 'No']\n",
            " ['France' 48 True 'Yes']\n",
            " ['Germany' 50 True 'No']\n",
            " ['France' 37 False 'Yes']]\n",
            "Index(['Country', 'cpc', 'drive_right', 'Purchased'], dtype='object')\n",
            "RangeIndex(start=0, stop=10, step=1)\n"
          ],
          "name": "stdout"
        }
      ]
    },
    {
      "cell_type": "code",
      "metadata": {
        "id": "at45T19hKb7T",
        "outputId": "6f69d15c-8b00-4a11-b2a0-3bea0b9941b6",
        "colab": {
          "base_uri": "https://localhost:8080/",
          "height": 121
        }
      },
      "source": [
        "# Sort data by individuals\n",
        "data_ind = data.sort_values(\"Purchased\", ascending=False)\n",
        "\n",
        "#for two values, we have to use list []\n",
        "\n",
        "# Print the top few rows\n",
        "print(data_ind.head())"
      ],
      "execution_count": null,
      "outputs": [
        {
          "output_type": "stream",
          "text": [
            "   Country  cpc  drive_right Purchased\n",
            "1    Spain   27        False       Yes\n",
            "4  Germany   40         True       Yes\n",
            "5   France   35        False       Yes\n",
            "7   France   48         True       Yes\n",
            "9   France   37        False       Yes\n"
          ],
          "name": "stdout"
        }
      ]
    },
    {
      "cell_type": "code",
      "metadata": {
        "id": "XA_FFAcRLWEp",
        "outputId": "6d4f4a10-6787-4b56-b4fc-e53dcd7f9d8c",
        "colab": {
          "base_uri": "https://localhost:8080/",
          "height": 87
        }
      },
      "source": [
        "#Subsetting columns\n",
        "\n",
        "# Select the cpc and drive_right columns\n",
        "data_com = data[['cpc', 'drive_right']]\n",
        "\n",
        "# Print the head of the result\n",
        "print(data_com.head(3))"
      ],
      "execution_count": null,
      "outputs": [
        {
          "output_type": "stream",
          "text": [
            "   cpc  drive_right\n",
            "0   44         True\n",
            "1   27        False\n",
            "2   30         True\n"
          ],
          "name": "stdout"
        }
      ]
    },
    {
      "cell_type": "code",
      "metadata": {
        "id": "jMi9zidQMRUJ",
        "outputId": "56dee0d7-5ec9-4691-e984-cb9dd6a5633c",
        "colab": {
          "base_uri": "https://localhost:8080/",
          "height": 312
        }
      },
      "source": [
        "# Filter for rows where cpc is greater than 40\n",
        "data_gt_40 = data[data[\"cpc\"] < 40]\n",
        "print(data[\"cpc\"] < 40)\n",
        "# See the result\n",
        "print(data_gt_40)"
      ],
      "execution_count": null,
      "outputs": [
        {
          "output_type": "stream",
          "text": [
            "0    False\n",
            "1     True\n",
            "2     True\n",
            "3     True\n",
            "4    False\n",
            "5     True\n",
            "6    False\n",
            "7    False\n",
            "8    False\n",
            "9     True\n",
            "Name: cpc, dtype: bool\n",
            "   Country  cpc  drive_right Purchased\n",
            "1    Spain   27        False       Yes\n",
            "2  Germany   30         True        No\n",
            "3    Spain   38        False        No\n",
            "5   France   35        False       Yes\n",
            "9   France   37        False       Yes\n"
          ],
          "name": "stdout"
        }
      ]
    },
    {
      "cell_type": "code",
      "metadata": {
        "id": "J5X8vDR5MnCL",
        "outputId": "cbbdeda0-8135-4920-9d46-b4a2da0df0d8",
        "colab": {
          "base_uri": "https://localhost:8080/",
          "height": 121
        }
      },
      "source": [
        "# Filter for rows where Purchased is No\n",
        "mountain_reg = data[data['Purchased']=='Yes']\n",
        "\n",
        "# See the result\n",
        "print(mountain_reg)"
      ],
      "execution_count": null,
      "outputs": [
        {
          "output_type": "stream",
          "text": [
            "   Country  cpc  drive_right Purchased\n",
            "1    Spain   27        False       Yes\n",
            "4  Germany   40         True       Yes\n",
            "5   France   35        False       Yes\n",
            "7   France   48         True       Yes\n",
            "9   France   37        False       Yes\n"
          ],
          "name": "stdout"
        }
      ]
    },
    {
      "cell_type": "code",
      "metadata": {
        "id": "Fir58i3HNEKy"
      },
      "source": [
        "# with & we can use two conditions as discussed above"
      ],
      "execution_count": null,
      "outputs": []
    },
    {
      "cell_type": "code",
      "metadata": {
        "id": "NQiS0pw7NPy7",
        "outputId": "43e7af6f-1573-478b-e9b6-3ec85d95027f",
        "colab": {
          "base_uri": "https://localhost:8080/",
          "height": 121
        }
      },
      "source": [
        "# Add total col as sum of individuals and family_members\n",
        "data['total'] = data['Country'] + data['Purchased']\n",
        "\n",
        "# See the result\n",
        "print(data.head())"
      ],
      "execution_count": null,
      "outputs": [
        {
          "output_type": "stream",
          "text": [
            "   Country  cpc  drive_right Purchased       total\n",
            "0   France   44         True        No    FranceNo\n",
            "1    Spain   27        False       Yes    SpainYes\n",
            "2  Germany   30         True        No   GermanyNo\n",
            "3    Spain   38        False        No     SpainNo\n",
            "4  Germany   40         True       Yes  GermanyYes\n"
          ],
          "name": "stdout"
        }
      ]
    },
    {
      "cell_type": "code",
      "metadata": {
        "id": "SrCO2RFrOIlT"
      },
      "source": [
        "#Chapter-1: Data Manipulation with pandas\n",
        "\n",
        "# topic 1.2"
      ],
      "execution_count": null,
      "outputs": []
    },
    {
      "cell_type": "code",
      "metadata": {
        "id": "4r94oZ3d3mr_"
      },
      "source": [
        "[10, 20, 40, 60, 80, 100]"
      ],
      "execution_count": null,
      "outputs": []
    },
    {
      "cell_type": "code",
      "metadata": {
        "id": "EfsrKLJfnyMW",
        "outputId": "3a5cd897-9987-4567-dd0a-820ae14a0326",
        "colab": {
          "base_uri": "https://localhost:8080/",
          "height": 156
        }
      },
      "source": [
        "import pandas as pd\n",
        "data = pd.read_csv('Data2.csv')\n",
        "\n",
        "# Print the head of the Data1\n",
        "print(data.head())\n",
        "\n",
        "# Print the mean of weekly_sales\n",
        "print(data['cpc'].mean())\n",
        "\n",
        "# Print the median of weekly_sales\n",
        "print(data['cpc'].median())"
      ],
      "execution_count": null,
      "outputs": [
        {
          "output_type": "stream",
          "text": [
            "   Country  cpc  drive_right Purchased   pop\n",
            "0   France   44         True        No  10.0\n",
            "1    Spain   27        False       Yes  20.0\n",
            "2  Germany   30         True        No  30.0\n",
            "3    Spain   38        False        No  20.0\n",
            "4  Germany   40         True       Yes  30.0\n",
            "34.63636363636363\n",
            "38.0\n"
          ],
          "name": "stdout"
        }
      ]
    },
    {
      "cell_type": "code",
      "metadata": {
        "id": "tva-bRp0plUu",
        "outputId": "02b7cad3-3121-4fe3-8536-2e482a95dcdc",
        "colab": {
          "base_uri": "https://localhost:8080/",
          "height": 52
        }
      },
      "source": [
        "# Print the maximum of the date column\n",
        "print(data['cpc'].max())\n",
        "\n",
        "# Print the minimum of the date column\n",
        "print(data['cpc'].min())"
      ],
      "execution_count": null,
      "outputs": [
        {
          "output_type": "stream",
          "text": [
            "52\n",
            "10\n"
          ],
          "name": "stdout"
        }
      ]
    },
    {
      "cell_type": "code",
      "metadata": {
        "id": "mxxvPCd9p4nB"
      },
      "source": [
        "# Similarly The .agg() method allows you to apply your own custom functions to a DataFrame, \n",
        "#as well as apply functions to more than one column of a DataFrame at once, \n",
        "#making your aggregations super-efficient."
      ],
      "execution_count": null,
      "outputs": []
    },
    {
      "cell_type": "code",
      "metadata": {
        "id": "V0t83qSBr5YZ"
      },
      "source": [
        "#cumulative sum and cumulative max \n",
        "#total sum of data as it grows with time"
      ],
      "execution_count": null,
      "outputs": []
    },
    {
      "cell_type": "code",
      "metadata": {
        "id": "oC7ngGBI5gb9"
      },
      "source": [
        ""
      ],
      "execution_count": null,
      "outputs": []
    },
    {
      "cell_type": "code",
      "metadata": {
        "id": "y-4DvL8e568c"
      },
      "source": [
        "'country', ['country', 'pakistan']"
      ],
      "execution_count": null,
      "outputs": []
    },
    {
      "cell_type": "code",
      "metadata": {
        "id": "02P44hVOsHTa",
        "outputId": "060253e7-4d8e-4a5c-c5a6-0cad7bc6ee37",
        "colab": {
          "base_uri": "https://localhost:8080/",
          "height": 121
        }
      },
      "source": [
        "# Drop duplicate cpc/purchas combinations\n",
        "cpc_purchase = data.drop_duplicates('Country')\n",
        "print(cpc_purchase.head())\n"
      ],
      "execution_count": null,
      "outputs": [
        {
          "output_type": "stream",
          "text": [
            "   Country  cpc  drive_right Purchased   pop\n",
            "0   France   44         True        No  10.0\n",
            "1    Spain   27        False       Yes  20.0\n",
            "2  Germany   30         True        No  30.0\n",
            "6    China   52         True        No  80.0\n",
            "7    India   48         True       Yes  60.0\n"
          ],
          "name": "stdout"
        }
      ]
    },
    {
      "cell_type": "code",
      "metadata": {
        "id": "1_GXexRZsnbL",
        "outputId": "c9cf81bb-7bef-420b-c00b-906bc4b23eea",
        "colab": {
          "base_uri": "https://localhost:8080/",
          "height": 416
        }
      },
      "source": [
        "# Count the number of each type\n",
        "data1=data.head()\n",
        "cpc_counts = data1['Country'].value_counts()\n",
        "print(cpc_counts)\n",
        "\n",
        "# Get the proportion of stores of each type\n",
        "store_props = data1['Country'].value_counts(normalize=True)\n",
        "print(store_props)\n",
        "\n",
        "# Count the number of each department number and sort\n",
        "dept_counts_sorted = data['Country'].value_counts(sort=False)\n",
        "print(dept_counts_sorted)\n",
        "\n",
        "# Get the proportion of departments of each number and sort\n",
        "dept_props_sorted = data1['cpc'].value_counts(sort=True, normalize=True)\n",
        "print(dept_props_sorted)"
      ],
      "execution_count": null,
      "outputs": [
        {
          "output_type": "stream",
          "text": [
            "Germany    2\n",
            "Spain      2\n",
            "France     1\n",
            "Name: Country, dtype: int64\n",
            "Germany    0.4\n",
            "Spain      0.4\n",
            "France     0.2\n",
            "Name: Country, dtype: float64\n",
            "France      2\n",
            "Spain       2\n",
            "India       1\n",
            "Germany     2\n",
            "America     1\n",
            "Pakistan    1\n",
            "China       1\n",
            "Canada      1\n",
            "Name: Country, dtype: int64\n",
            "30    0.2\n",
            "40    0.2\n",
            "44    0.2\n",
            "27    0.2\n",
            "38    0.2\n",
            "Name: cpc, dtype: float64\n"
          ],
          "name": "stdout"
        }
      ]
    },
    {
      "cell_type": "code",
      "metadata": {
        "id": "yyhl74oUuc4W",
        "outputId": "bd9fb54f-ca02-4066-fc35-de0fa963f62e",
        "colab": {
          "base_uri": "https://localhost:8080/",
          "height": 35
        }
      },
      "source": [
        "# Calc total cpc\n",
        "cpc_all = data[\"cpc\"].sum()\n",
        "cpc_all"
      ],
      "execution_count": null,
      "outputs": [
        {
          "output_type": "execute_result",
          "data": {
            "text/plain": [
              "401"
            ]
          },
          "metadata": {
            "tags": []
          },
          "execution_count": 22
        }
      ]
    },
    {
      "cell_type": "code",
      "metadata": {
        "id": "PEF7PQUVxKVp",
        "outputId": "211135c1-ec8a-4cf5-b3e5-e9cb9b319305",
        "colab": {
          "base_uri": "https://localhost:8080/",
          "height": 191
        }
      },
      "source": [
        "# Group by type; calc total weekly sales\n",
        "data_by_country = data.groupby(\"Country\")[\"cpc\"].sum()\n",
        "data_by_country"
      ],
      "execution_count": null,
      "outputs": [
        {
          "output_type": "execute_result",
          "data": {
            "text/plain": [
              "Country\n",
              "America     45\n",
              "Canada      12\n",
              "China       52\n",
              "France      79\n",
              "Germany     70\n",
              "India       48\n",
              "Pakistan    10\n",
              "Spain       65\n",
              "Name: cpc, dtype: int64"
            ]
          },
          "metadata": {
            "tags": []
          },
          "execution_count": 5
        }
      ]
    },
    {
      "cell_type": "code",
      "metadata": {
        "id": "DHAbdC5QxgH1",
        "outputId": "17419c53-3fb9-408d-d73a-d16db43848d1",
        "colab": {
          "base_uri": "https://localhost:8080/",
          "height": 381
        }
      },
      "source": [
        "# Import NumPy with the alias np\n",
        "import numpy as np\n",
        "\n",
        "# For each country, aggregate cpc: get min, max, mean, and median\n",
        "data_by_country = data.groupby('Country')['cpc'].agg([np.min, np.max, np.mean, np.median])\n",
        "\n",
        "# Print data_stats\n",
        "print(data_by_country)\n",
        "\n",
        "# For each country, aggregate cpc and purchased: get min, max, mean, and median\n",
        "unemp_fuel_stats = data.groupby('Country')[['cpc', 'Purchased']].agg([np.min, np.max, np.mean, np.median])\n",
        "\n",
        "# Print unemp_fuel_stats\n",
        "print(unemp_fuel_stats)"
      ],
      "execution_count": null,
      "outputs": [
        {
          "output_type": "stream",
          "text": [
            "          amin  amax  mean  median\n",
            "Country                           \n",
            "America     45    45  45.0    45.0\n",
            "Canada      12    12  12.0    12.0\n",
            "China       52    52  52.0    52.0\n",
            "France      35    44  39.5    39.5\n",
            "Germany     30    40  35.0    35.0\n",
            "India       48    48  48.0    48.0\n",
            "Pakistan    10    10  10.0    10.0\n",
            "Spain       27    38  32.5    32.5\n",
            "          cpc                  \n",
            "         amin amax  mean median\n",
            "Country                        \n",
            "America    45   45  45.0   45.0\n",
            "Canada     12   12  12.0   12.0\n",
            "China      52   52  52.0   52.0\n",
            "France     35   44  39.5   39.5\n",
            "Germany    30   40  35.0   35.0\n",
            "India      48   48  48.0   48.0\n",
            "Pakistan   10   10  10.0   10.0\n",
            "Spain      27   38  32.5   32.5\n"
          ],
          "name": "stdout"
        }
      ]
    },
    {
      "cell_type": "code",
      "metadata": {
        "id": "o2OEM2XqyBaK",
        "outputId": "8350b2cd-ac79-4a45-95ca-e6756ff41479",
        "colab": {
          "base_uri": "https://localhost:8080/",
          "height": 191
        }
      },
      "source": [
        "# Pivot for mean cpc for each country\n",
        "mean_cpc_by_country = data.pivot_table(values=\"cpc\", index=\"Country\")\n",
        "\n",
        "# Print mean_cpc for each country\n",
        "print(mean_cpc_by_country)"
      ],
      "execution_count": null,
      "outputs": [
        {
          "output_type": "stream",
          "text": [
            "           cpc\n",
            "Country       \n",
            "America   45.0\n",
            "Canada    12.0\n",
            "China     52.0\n",
            "France    39.5\n",
            "Germany   35.0\n",
            "India     48.0\n",
            "Pakistan  10.0\n",
            "Spain     32.5\n"
          ],
          "name": "stdout"
        }
      ]
    },
    {
      "cell_type": "code",
      "metadata": {
        "id": "9hJZSq0AzLP2",
        "outputId": "2cecab3a-d16f-4f0a-8285-6b30c9316b70",
        "colab": {
          "base_uri": "https://localhost:8080/",
          "height": 191
        }
      },
      "source": [
        "# Print mean cpc by country type; fill missing values with 0\n",
        "print(data.pivot_table(values='cpc', index='Country', columns='Purchased', fill_value=0))"
      ],
      "execution_count": null,
      "outputs": [
        {
          "output_type": "stream",
          "text": [
            "Purchased  No  Yes\n",
            "Country           \n",
            "America    45    0\n",
            "Canada      0   12\n",
            "China      52    0\n",
            "France     44   35\n",
            "Germany    30   40\n",
            "India       0   48\n",
            "Pakistan    0   10\n",
            "Spain      38   27\n"
          ],
          "name": "stdout"
        }
      ]
    },
    {
      "cell_type": "code",
      "metadata": {
        "id": "XheVl465z1r5"
      },
      "source": [
        "#Chapter-1: Data Manipulation with pandas\n",
        "\n",
        "# topic 1.3 Slicing and Indexing\n"
      ],
      "execution_count": null,
      "outputs": []
    },
    {
      "cell_type": "code",
      "metadata": {
        "id": "M8GyMJvz93HI",
        "outputId": "17adae67-c53e-472a-fcef-331cb40a851a",
        "colab": {
          "base_uri": "https://localhost:8080/",
          "height": 225
        }
      },
      "source": [
        "print(data)"
      ],
      "execution_count": null,
      "outputs": [
        {
          "output_type": "stream",
          "text": [
            "     Country  cpc  drive_right Purchased   pop\n",
            "0     France   44         True        No  10.0\n",
            "1      Spain   27        False       Yes  20.0\n",
            "2    Germany   30         True        No  30.0\n",
            "3      Spain   38        False        No  20.0\n",
            "4    Germany   40         True       Yes  30.0\n",
            "5     France   35        False       Yes  10.0\n",
            "6      China   52         True        No  80.0\n",
            "7      India   48         True       Yes  60.0\n",
            "8    America   45         True        No  40.0\n",
            "9     Canada   12        False       Yes   NaN\n",
            "10  Pakistan   10         True       Yes   NaN\n"
          ],
          "name": "stdout"
        }
      ]
    },
    {
      "cell_type": "code",
      "metadata": {
        "id": "THfLJXiZ9Tz5",
        "outputId": "d4841625-0254-4a58-a51a-407c3275f8e5",
        "colab": {
          "base_uri": "https://localhost:8080/",
          "height": 867
        }
      },
      "source": [
        "# Look at data\n",
        "print(data)\n",
        "\n",
        "# Index data by country\n",
        "data_ind = data.set_index('Country')\n",
        "\n",
        "# Look at data_ind\n",
        "print(data_ind)\n",
        "\n",
        "# Reset the index, keeping its contents\n",
        "print(data_ind.reset_index())\n",
        "\n",
        "# Reset the index, dropping its contents\n",
        "print(data_ind.reset_index(drop=True))"
      ],
      "execution_count": null,
      "outputs": [
        {
          "output_type": "stream",
          "text": [
            "     Country  cpc  drive_right Purchased   pop\n",
            "0     France   44         True        No  10.0\n",
            "1      Spain   27        False       Yes  20.0\n",
            "2    Germany   30         True        No  30.0\n",
            "3      Spain   38        False        No  20.0\n",
            "4    Germany   40         True       Yes  30.0\n",
            "5     France   35        False       Yes  10.0\n",
            "6      China   52         True        No  80.0\n",
            "7      India   48         True       Yes  60.0\n",
            "8    America   45         True        No  40.0\n",
            "9     Canada   12        False       Yes   NaN\n",
            "10  Pakistan   10         True       Yes   NaN\n",
            "          cpc  drive_right Purchased   pop\n",
            "Country                                   \n",
            "France     44         True        No  10.0\n",
            "Spain      27        False       Yes  20.0\n",
            "Germany    30         True        No  30.0\n",
            "Spain      38        False        No  20.0\n",
            "Germany    40         True       Yes  30.0\n",
            "France     35        False       Yes  10.0\n",
            "China      52         True        No  80.0\n",
            "India      48         True       Yes  60.0\n",
            "America    45         True        No  40.0\n",
            "Canada     12        False       Yes   NaN\n",
            "Pakistan   10         True       Yes   NaN\n",
            "     Country  cpc  drive_right Purchased   pop\n",
            "0     France   44         True        No  10.0\n",
            "1      Spain   27        False       Yes  20.0\n",
            "2    Germany   30         True        No  30.0\n",
            "3      Spain   38        False        No  20.0\n",
            "4    Germany   40         True       Yes  30.0\n",
            "5     France   35        False       Yes  10.0\n",
            "6      China   52         True        No  80.0\n",
            "7      India   48         True       Yes  60.0\n",
            "8    America   45         True        No  40.0\n",
            "9     Canada   12        False       Yes   NaN\n",
            "10  Pakistan   10         True       Yes   NaN\n",
            "    cpc  drive_right Purchased   pop\n",
            "0    44         True        No  10.0\n",
            "1    27        False       Yes  20.0\n",
            "2    30         True        No  30.0\n",
            "3    38        False        No  20.0\n",
            "4    40         True       Yes  30.0\n",
            "5    35        False       Yes  10.0\n",
            "6    52         True        No  80.0\n",
            "7    48         True       Yes  60.0\n",
            "8    45         True        No  40.0\n",
            "9    12        False       Yes   NaN\n",
            "10   10         True       Yes   NaN\n"
          ],
          "name": "stdout"
        }
      ]
    },
    {
      "cell_type": "code",
      "metadata": {
        "id": "J3So4atM-Wd-",
        "outputId": "7da1390f-8f6f-4621-9487-f304c28d27bc",
        "colab": {
          "base_uri": "https://localhost:8080/",
          "height": 139
        }
      },
      "source": [
        "# Make a list of countries to subset on\n",
        "countries = ['Pakistan', 'Canada']\n",
        "\n",
        "# Subset data using square brackets\n",
        "print(data[data['Country'].isin(countries)])\n",
        "\n",
        "# Subset data_ind using .loc[]\n",
        "print(data_ind.loc[countries])"
      ],
      "execution_count": null,
      "outputs": [
        {
          "output_type": "stream",
          "text": [
            "     Country  cpc  drive_right Purchased  pop\n",
            "9     Canada   12        False       Yes  NaN\n",
            "10  Pakistan   10         True       Yes  NaN\n",
            "          cpc  drive_right Purchased  pop\n",
            "Country                                  \n",
            "Pakistan   10         True       Yes  NaN\n",
            "Canada     12        False       Yes  NaN\n"
          ],
          "name": "stdout"
        }
      ]
    },
    {
      "cell_type": "code",
      "metadata": {
        "id": "866L-g4f_Jkz",
        "outputId": "5c59ddf6-6871-42c7-d120-d50249891cda",
        "colab": {
          "base_uri": "https://localhost:8080/",
          "height": 87
        }
      },
      "source": [
        "# Setting multi-level indexes\n",
        "\n",
        "# Index data by country & pop\n",
        "data_ind = data.set_index(['Country', 'pop'])\n",
        "\n",
        "# List of tuples: canada, 0 & Pakistan, 0\n",
        "rows_to_keep = [('Canada', 0), ('Pakistan', 0)]\n",
        "\n",
        "# Subset for rows to keep\n",
        "print(data_ind.loc[rows_to_keep])"
      ],
      "execution_count": null,
      "outputs": [
        {
          "output_type": "stream",
          "text": [
            "              cpc  drive_right Purchased\n",
            "Country  pop                            \n",
            "Canada   NaN   12        False       Yes\n",
            "Pakistan NaN   10         True       Yes\n"
          ],
          "name": "stdout"
        }
      ]
    },
    {
      "cell_type": "code",
      "metadata": {
        "id": "iWT6_FVNAKwh",
        "outputId": "3a51447c-268f-40c3-e5e2-76749f652c8a",
        "colab": {
          "base_uri": "https://localhost:8080/",
          "height": 693
        }
      },
      "source": [
        "# Sort data_ind by index values\n",
        "print(data_ind.sort_index())\n",
        "\n",
        "# Sort data_ind by index values at the city level\n",
        "print(data_ind.sort_index(level='Country'))\n",
        "\n",
        "# Sort data_ind by country then descending pop\n",
        "print(data_ind.sort_index(level=['Country', 'pop'], ascending=[True,True]))"
      ],
      "execution_count": null,
      "outputs": [
        {
          "output_type": "stream",
          "text": [
            "               cpc  drive_right Purchased\n",
            "Country  pop                             \n",
            "America  40.0   45         True        No\n",
            "Canada   NaN    12        False       Yes\n",
            "China    80.0   52         True        No\n",
            "France   10.0   44         True        No\n",
            "         10.0   35        False       Yes\n",
            "Germany  30.0   30         True        No\n",
            "         30.0   40         True       Yes\n",
            "India    60.0   48         True       Yes\n",
            "Pakistan NaN    10         True       Yes\n",
            "Spain    20.0   27        False       Yes\n",
            "         20.0   38        False        No\n",
            "               cpc  drive_right Purchased\n",
            "Country  pop                             \n",
            "America  40.0   45         True        No\n",
            "Canada   NaN    12        False       Yes\n",
            "China    80.0   52         True        No\n",
            "France   10.0   44         True        No\n",
            "         10.0   35        False       Yes\n",
            "Germany  30.0   30         True        No\n",
            "         30.0   40         True       Yes\n",
            "India    60.0   48         True       Yes\n",
            "Pakistan NaN    10         True       Yes\n",
            "Spain    20.0   27        False       Yes\n",
            "         20.0   38        False        No\n",
            "               cpc  drive_right Purchased\n",
            "Country  pop                             \n",
            "America  40.0   45         True        No\n",
            "Canada   NaN    12        False       Yes\n",
            "China    80.0   52         True        No\n",
            "France   10.0   44         True        No\n",
            "         10.0   35        False       Yes\n",
            "Germany  30.0   30         True        No\n",
            "         30.0   40         True       Yes\n",
            "India    60.0   48         True       Yes\n",
            "Pakistan NaN    10         True       Yes\n",
            "Spain    20.0   27        False       Yes\n",
            "         20.0   38        False        No\n"
          ],
          "name": "stdout"
        }
      ]
    },
    {
      "cell_type": "code",
      "metadata": {
        "id": "NHoGO6SABNJp",
        "outputId": "8f216ef4-30c1-48cc-e098-e75200613283",
        "colab": {
          "base_uri": "https://localhost:8080/",
          "height": 87
        }
      },
      "source": [
        "# Sort the index of data_ind\n",
        "data_srt = data_ind.sort_index()\n",
        "\n",
        "# Subset rows from Pakistan to Russia\n",
        "print(data_srt.loc['America':'Canada'])\n"
      ],
      "execution_count": null,
      "outputs": [
        {
          "output_type": "stream",
          "text": [
            "              cpc  drive_right Purchased\n",
            "Country pop                             \n",
            "America 40.0   45         True        No\n",
            "Canada  NaN    12        False       Yes\n"
          ],
          "name": "stdout"
        }
      ]
    },
    {
      "cell_type": "code",
      "metadata": {
        "id": "PSi9sckhCv19",
        "outputId": "7e245707-bba5-4f40-e174-313014abb69a",
        "colab": {
          "base_uri": "https://localhost:8080/",
          "height": 121
        }
      },
      "source": [
        "# Use slicing in both directions at once\n",
        "print(data.iloc[0:5,2:4])"
      ],
      "execution_count": null,
      "outputs": [
        {
          "output_type": "stream",
          "text": [
            "   drive_right Purchased\n",
            "0         True        No\n",
            "1        False       Yes\n",
            "2         True        No\n",
            "3        False        No\n",
            "4         True       Yes\n"
          ],
          "name": "stdout"
        }
      ]
    },
    {
      "cell_type": "code",
      "metadata": {
        "id": "YURGZqoxDObO",
        "outputId": "33a62f2c-6006-44f4-9951-9ca77db21404",
        "colab": {
          "base_uri": "https://localhost:8080/",
          "height": 156
        }
      },
      "source": [
        "# Add a year column to data\n",
        "#data['year']=data[\"date\"].dt.year\n",
        "\n",
        "# Pivot avg_temp_c by country and city vs year\n",
        "data_by_country_city_vs_year = data.pivot_table(\"cpc\", index = [\"Country\", \"pop\"], columns = \"Purchased\")\n",
        "\n",
        "# See the result\n",
        "print(data_by_country_city_vs_year)"
      ],
      "execution_count": null,
      "outputs": [
        {
          "output_type": "stream",
          "text": [
            "Purchased       No   Yes\n",
            "Country pop             \n",
            "America 40.0  45.0   NaN\n",
            "China   80.0  52.0   NaN\n",
            "France  10.0  44.0  35.0\n",
            "Germany 30.0  30.0  40.0\n",
            "India   60.0   NaN  48.0\n",
            "Spain   20.0  38.0  27.0\n"
          ],
          "name": "stdout"
        }
      ]
    },
    {
      "cell_type": "code",
      "metadata": {
        "id": "t9R3B4GrD5_y"
      },
      "source": [
        "#Chapter-1: Data Manipulation with pandas\n",
        "\n",
        "# topic 1.4\n",
        "\n",
        "import pandas as pd\n",
        "import matplotlib.pyplot as plt\n",
        "import numpy as np"
      ],
      "execution_count": null,
      "outputs": []
    },
    {
      "cell_type": "code",
      "metadata": {
        "id": "0oH7R8zc8OG8",
        "outputId": "0fbfa364-5037-4572-f05b-cf38975aea99",
        "colab": {
          "base_uri": "https://localhost:8080/"
        }
      },
      "source": [
        "import pandas as pd\n",
        "data = pd.read_csv('Data2.csv')\n",
        "\n",
        "# Print the head of the Data1\n",
        "print(data.head())"
      ],
      "execution_count": null,
      "outputs": [
        {
          "output_type": "stream",
          "text": [
            "   Country  cpc  drive_right Purchased   pop\n",
            "0   France   44         True        No  10.0\n",
            "1    Spain   27        False       Yes  20.0\n",
            "2  Germany   30         True        No  30.0\n",
            "3    Spain   38        False        No  20.0\n",
            "4  Germany   40         True       Yes  30.0\n"
          ],
          "name": "stdout"
        }
      ]
    },
    {
      "cell_type": "code",
      "metadata": {
        "id": "DdDZr0Pi7zC9",
        "outputId": "86b47c92-59fb-410b-ee2f-499705d59e40",
        "colab": {
          "base_uri": "https://localhost:8080/",
          "height": 383
        }
      },
      "source": [
        "# kind plot like line and bar etc\n",
        "# Import matplotlib.pyplot with alias plt\n",
        "import matplotlib.pyplot as plt\n",
        "\n",
        "# Look at the first few rows of data\n",
        "print(data.head())\n",
        "\n",
        "# Get the total number of each size of pop\n",
        "pop_size = data.groupby('Country')['pop'].sum()\n",
        "\n",
        "# Create a bar plot of the number of data by size of pop\n",
        "pop_size.plot(kind=\"line\")\n",
        "\n",
        "# Show the plot\n",
        "plt.show()"
      ],
      "execution_count": null,
      "outputs": [
        {
          "output_type": "stream",
          "text": [
            "   Country  cpc  drive_right Purchased   pop\n",
            "0   France   44         True        No  10.0\n",
            "1    Spain   27        False       Yes  20.0\n",
            "2  Germany   30         True        No  30.0\n",
            "3    Spain   38        False        No  20.0\n",
            "4  Germany   40         True       Yes  30.0\n"
          ],
          "name": "stdout"
        },
        {
          "output_type": "display_data",
          "data": {
            "image/png": "[encoded data removed]",
            "text/plain": [
              "<Figure size 432x288 with 1 Axes>"
            ]
          },
          "metadata": {
            "tags": [],
            "needs_background": "light"
          }
        }
      ]
    },
    {
      "cell_type": "code",
      "metadata": {
        "id": "lzIaJ4fg8sNZ",
        "outputId": "b4200e08-9c14-490b-cd1c-13ae47a842d1",
        "colab": {
          "base_uri": "https://localhost:8080/",
          "height": 399
        }
      },
      "source": [
        "# Scatter plot of nb_sold vs avg_price with title\n",
        "data_tail=data.tail()\n",
        "print(data_tail)\n",
        "data_tail.plot(x='pop', y='Country', kind='scatter', title='countries vs. pop')\n",
        "# Show the plot\n",
        "plt.show()"
      ],
      "execution_count": null,
      "outputs": [
        {
          "output_type": "stream",
          "text": [
            "     Country  cpc  drive_right Purchased   pop\n",
            "6      China   52         True        No  80.0\n",
            "7      India   48         True       Yes  60.0\n",
            "8    America   45         True        No  40.0\n",
            "9     Canada   12        False       Yes   NaN\n",
            "10  Pakistan   10         True       Yes   NaN\n"
          ],
          "name": "stdout"
        },
        {
          "output_type": "display_data",
          "data": {
            "image/png": "[encoded data removed]",
            "text/plain": [
              "<Figure size 432x288 with 1 Axes>"
            ]
          },
          "metadata": {
            "tags": [],
            "needs_background": "light"
          }
        }
      ]
    },
    {
      "cell_type": "code",
      "metadata": {
        "id": "8lQF2Qy3_HWX",
        "outputId": "9eb87bbe-30fb-40e2-8c7d-a53a50183071",
        "colab": {
          "base_uri": "https://localhost:8080/",
          "height": 265
        }
      },
      "source": [
        "# Histogram of conventional avg_price \n",
        "data[data[\"Country\"] == \"America\"][\"cpc\"].hist()\n",
        "\n",
        "# Histogram of organic avg_price\n",
        "data[data[\"Country\"] == \"China\"][\"cpc\"].hist()\n",
        "\n",
        "# Add a legend\n",
        "plt.legend([\"America\", \"China\"])\n",
        "\n",
        "# Show the plot\n",
        "plt.show()"
      ],
      "execution_count": null,
      "outputs": [
        {
          "output_type": "display_data",
          "data": {
            "image/png": "[encoded data removed]",
            "text/plain": [
              "<Figure size 432x288 with 1 Axes>"
            ]
          },
          "metadata": {
            "tags": [],
            "needs_background": "light"
          }
        }
      ]
    },
    {
      "cell_type": "code",
      "metadata": {
        "id": "Pqatp92VIZIU",
        "outputId": "c28347d7-da1f-48b3-f24f-4dbb44f51df5",
        "colab": {
          "base_uri": "https://localhost:8080/",
          "height": 621
        }
      },
      "source": [
        "# Import matplotlib.pyplot with alias plt\n",
        "import matplotlib.pyplot as plt\n",
        "\n",
        "# Check individual values for missing values\n",
        "print(data.isna())\n",
        "\n",
        "# Check each column for missing values\n",
        "print(data.isna().any())\n",
        "\n",
        "# Bar plot of missing values by variable\n",
        "data.isna().sum().plot(kind='bar')\n",
        "\n",
        "# Show plot\n",
        "plt.show()"
      ],
      "execution_count": null,
      "outputs": [
        {
          "output_type": "stream",
          "text": [
            "    Country    cpc  drive_right  Purchased    pop\n",
            "0     False  False        False      False  False\n",
            "1     False  False        False      False  False\n",
            "2     False  False        False      False  False\n",
            "3     False  False        False      False  False\n",
            "4     False  False        False      False  False\n",
            "5     False  False        False      False  False\n",
            "6     False  False        False      False  False\n",
            "7     False  False        False      False  False\n",
            "8     False  False        False      False  False\n",
            "9     False  False        False      False   True\n",
            "10    False  False        False      False   True\n",
            "Country        False\n",
            "cpc            False\n",
            "drive_right    False\n",
            "Purchased      False\n",
            "pop             True\n",
            "dtype: bool\n"
          ],
          "name": "stdout"
        },
        {
          "output_type": "display_data",
          "data": {
            "image/png": "[encoded data removed]",
            "text/plain": [
              "<Figure size 432x288 with 1 Axes>"
            ]
          },
          "metadata": {
            "tags": [],
            "needs_background": "light"
          }
        }
      ]
    },
    {
      "cell_type": "code",
      "metadata": {
        "id": "vjHqO2W0Jcv0",
        "outputId": "a73b4f17-0099-4da2-f291-dc9bb879f4f8",
        "colab": {
          "base_uri": "https://localhost:8080/"
        }
      },
      "source": [
        "# Remove rows with missing values\n",
        "data_complete = data.dropna()\n",
        "\n",
        "# Check if any columns contain missing values\n",
        "print(data_complete.isna().any())"
      ],
      "execution_count": null,
      "outputs": [
        {
          "output_type": "stream",
          "text": [
            "Country        False\n",
            "cpc            False\n",
            "drive_right    False\n",
            "Purchased      False\n",
            "pop            False\n",
            "dtype: bool\n"
          ],
          "name": "stdout"
        }
      ]
    },
    {
      "cell_type": "code",
      "metadata": {
        "id": "OW5uI7A9P28e",
        "outputId": "3fae35e1-fbb5-4c6d-fc67-40e511d85fe4",
        "colab": {
          "base_uri": "https://localhost:8080/",
          "height": 386
        }
      },
      "source": [
        "data"
      ],
      "execution_count": null,
      "outputs": [
        {
          "output_type": "execute_result",
          "data": {
            "text/html": [
              "<div>\n",
              "<style scoped>\n",
              "    .dataframe tbody tr th:only-of-type {\n",
              "        vertical-align: middle;\n",
              "    }\n",
              "\n",
              "    .dataframe tbody tr th {\n",
              "        vertical-align: top;\n",
              "    }\n",
              "\n",
              "    .dataframe thead th {\n",
              "        text-align: right;\n",
              "    }\n",
              "</style>\n",
              "<table border=\"1\" class=\"dataframe\">\n",
              "  <thead>\n",
              "    <tr style=\"text-align: right;\">\n",
              "      <th></th>\n",
              "      <th>Country</th>\n",
              "      <th>cpc</th>\n",
              "      <th>drive_right</th>\n",
              "      <th>Purchased</th>\n",
              "      <th>pop</th>\n",
              "    </tr>\n",
              "  </thead>\n",
              "  <tbody>\n",
              "    <tr>\n",
              "      <th>0</th>\n",
              "      <td>France</td>\n",
              "      <td>44</td>\n",
              "      <td>True</td>\n",
              "      <td>No</td>\n",
              "      <td>10.0</td>\n",
              "    </tr>\n",
              "    <tr>\n",
              "      <th>1</th>\n",
              "      <td>Spain</td>\n",
              "      <td>27</td>\n",
              "      <td>False</td>\n",
              "      <td>Yes</td>\n",
              "      <td>20.0</td>\n",
              "    </tr>\n",
              "    <tr>\n",
              "      <th>2</th>\n",
              "      <td>Germany</td>\n",
              "      <td>30</td>\n",
              "      <td>True</td>\n",
              "      <td>No</td>\n",
              "      <td>30.0</td>\n",
              "    </tr>\n",
              "    <tr>\n",
              "      <th>3</th>\n",
              "      <td>Spain</td>\n",
              "      <td>38</td>\n",
              "      <td>False</td>\n",
              "      <td>No</td>\n",
              "      <td>20.0</td>\n",
              "    </tr>\n",
              "    <tr>\n",
              "      <th>4</th>\n",
              "      <td>Germany</td>\n",
              "      <td>40</td>\n",
              "      <td>True</td>\n",
              "      <td>Yes</td>\n",
              "      <td>30.0</td>\n",
              "    </tr>\n",
              "    <tr>\n",
              "      <th>5</th>\n",
              "      <td>France</td>\n",
              "      <td>35</td>\n",
              "      <td>False</td>\n",
              "      <td>Yes</td>\n",
              "      <td>10.0</td>\n",
              "    </tr>\n",
              "    <tr>\n",
              "      <th>6</th>\n",
              "      <td>China</td>\n",
              "      <td>52</td>\n",
              "      <td>True</td>\n",
              "      <td>No</td>\n",
              "      <td>80.0</td>\n",
              "    </tr>\n",
              "    <tr>\n",
              "      <th>7</th>\n",
              "      <td>India</td>\n",
              "      <td>48</td>\n",
              "      <td>True</td>\n",
              "      <td>Yes</td>\n",
              "      <td>60.0</td>\n",
              "    </tr>\n",
              "    <tr>\n",
              "      <th>8</th>\n",
              "      <td>America</td>\n",
              "      <td>45</td>\n",
              "      <td>True</td>\n",
              "      <td>No</td>\n",
              "      <td>40.0</td>\n",
              "    </tr>\n",
              "    <tr>\n",
              "      <th>9</th>\n",
              "      <td>Canada</td>\n",
              "      <td>12</td>\n",
              "      <td>False</td>\n",
              "      <td>Yes</td>\n",
              "      <td>NaN</td>\n",
              "    </tr>\n",
              "    <tr>\n",
              "      <th>10</th>\n",
              "      <td>Pakistan</td>\n",
              "      <td>10</td>\n",
              "      <td>True</td>\n",
              "      <td>Yes</td>\n",
              "      <td>NaN</td>\n",
              "    </tr>\n",
              "  </tbody>\n",
              "</table>\n",
              "</div>"
            ],
            "text/plain": [
              "     Country  cpc  drive_right Purchased   pop\n",
              "0     France   44         True        No  10.0\n",
              "1      Spain   27        False       Yes  20.0\n",
              "2    Germany   30         True        No  30.0\n",
              "3      Spain   38        False        No  20.0\n",
              "4    Germany   40         True       Yes  30.0\n",
              "5     France   35        False       Yes  10.0\n",
              "6      China   52         True        No  80.0\n",
              "7      India   48         True       Yes  60.0\n",
              "8    America   45         True        No  40.0\n",
              "9     Canada   12        False       Yes   NaN\n",
              "10  Pakistan   10         True       Yes   NaN"
            ]
          },
          "metadata": {
            "tags": []
          },
          "execution_count": 46
        }
      ]
    },
    {
      "cell_type": "code",
      "metadata": {
        "id": "9-TkEy8SJ39Z",
        "outputId": "c3a86a79-dde5-49d1-9f5e-b71dd1236f3c",
        "colab": {
          "base_uri": "https://localhost:8080/",
          "height": 281
        }
      },
      "source": [
        "# List the columns with missing values\n",
        "cols_with_missing = [\"pop\"]\n",
        "#data_new=data.groupby('Country')\n",
        "# Create histograms showing the distributions cols_with_missing\n",
        "data[cols_with_missing].hist()\n",
        "\n",
        "# Show the plot\n",
        "plt.show()"
      ],
      "execution_count": null,
      "outputs": [
        {
          "output_type": "display_data",
          "data": {
            "image/png": "[encoded data removed]",
            "text/plain": [
              "<Figure size 432x288 with 1 Axes>"
            ]
          },
          "metadata": {
            "tags": [],
            "needs_background": "light"
          }
        }
      ]
    },
    {
      "cell_type": "code",
      "metadata": {
        "id": "6vs9AYOKKNrP",
        "outputId": "f1f7daa2-a9d8-4794-e126-35f75d7411b6",
        "colab": {
          "base_uri": "https://localhost:8080/"
        }
      },
      "source": [
        "# Create a list of dictionaries with new data\n",
        "avocados_list = [\n",
        "    {'date': \"2019-11-03\", 'small_sold': 10376832, 'large_sold': 7835071},\n",
        "    {'date': \"2019-11-10\", 'small_sold': 10717154, 'large_sold': 8561348},\n",
        "]\n",
        "\n",
        "# Convert list into DataFrame\n",
        "avocados_2019 = pd.DataFrame(avocados_list)\n",
        "\n",
        "# Print the new DataFrame\n",
        "print(avocados_2019)"
      ],
      "execution_count": null,
      "outputs": [
        {
          "output_type": "stream",
          "text": [
            "         date  small_sold  large_sold\n",
            "0  2019-11-03    10376832     7835071\n",
            "1  2019-11-10    10717154     8561348\n"
          ],
          "name": "stdout"
        }
      ]
    },
    {
      "cell_type": "code",
      "metadata": {
        "id": "k-e-P9o7LUiH",
        "outputId": "0dbbf191-2a1a-4c35-f871-0081e9b5a1c9",
        "colab": {
          "base_uri": "https://localhost:8080/"
        }
      },
      "source": [
        "# Create a dictionary of lists with new data\n",
        "avocados_dict = {\n",
        "  \"date\": [\"2019-11-17\", \"2019-12-01\"],\n",
        "  \"small_sold\": [10859987, 9291631],\n",
        "  \"large_sold\": [7674135, 6238096]\n",
        "}\n",
        "\n",
        "# Convert dictionary into DataFrame\n",
        "avocados_2019 = pd.DataFrame(avocados_dict)\n",
        "\n",
        "# Print the new DataFrame\n",
        "print(avocados_2019)"
      ],
      "execution_count": null,
      "outputs": [
        {
          "output_type": "stream",
          "text": [
            "         date  small_sold  large_sold\n",
            "0  2019-11-17    10859987     7674135\n",
            "1  2019-12-01     9291631     6238096\n"
          ],
          "name": "stdout"
        }
      ]
    },
    {
      "cell_type": "code",
      "metadata": {
        "id": "0dEG6u5dLwdY",
        "outputId": "36387513-b057-4c90-83c7-35020d915209",
        "colab": {
          "base_uri": "https://localhost:8080/"
        }
      },
      "source": [
        "type(avocados_2019)"
      ],
      "execution_count": null,
      "outputs": [
        {
          "output_type": "execute_result",
          "data": {
            "text/plain": [
              "pandas.core.frame.DataFrame"
            ]
          },
          "metadata": {
            "tags": []
          },
          "execution_count": 30
        }
      ]
    },
    {
      "cell_type": "code",
      "metadata": {
        "id": "RLkrdVsWLbE8",
        "outputId": "2c344804-dcc1-475d-f3dd-a4c617e24c2a",
        "colab": {
          "base_uri": "https://localhost:8080/"
        }
      },
      "source": [
        "# Create avocado_sorted\n",
        "avocados_2019_sorted = avocados_2019.sort_values('large_sold', ascending=False)\n",
        "\n",
        "# Print airline_totals_sorted\n",
        "print(avocados_2019_sorted)\n",
        "\n",
        "# Save as airline_totals_sorted.csv\n",
        "avocados_2019.to_csv('avocados_2019_sorted.csv')"
      ],
      "execution_count": null,
      "outputs": [
        {
          "output_type": "stream",
          "text": [
            "         date  small_sold  large_sold\n",
            "0  2019-11-17    10859987     7674135\n",
            "1  2019-12-01     9291631     6238096\n"
          ],
          "name": "stdout"
        }
      ]
    },
    {
      "cell_type": "code",
      "metadata": {
        "id": "6O2lmeeGMIyd"
      },
      "source": [
        ""
      ],
      "execution_count": null,
      "outputs": []
    }
  ]
}